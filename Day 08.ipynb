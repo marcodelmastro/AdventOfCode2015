{
 "cells": [
  {
   "cell_type": "markdown",
   "metadata": {},
   "source": [
    "# Day 8: Matchsticks\n",
    "\n",
    "https://adventofcode.com/2015/day/8"
   ]
  },
  {
   "cell_type": "code",
   "execution_count": 4,
   "metadata": {},
   "outputs": [
    {
     "name": "stdout",
     "output_type": "stream",
     "text": [
      "1350\n"
     ]
    }
   ],
   "source": [
    "#f = open(\"./data/day08test0.txt\")\n",
    "f = open(\"./data/input08.txt\")\n",
    "\n",
    "c = 0\n",
    "for x in f.readlines():\n",
    "    x = x.strip(\"\\n\")\n",
    "    r = eval(x)\n",
    "    #print(x,r,len(x),len(r))\n",
    "    c = c + len(x) - len(r)\n",
    "print(c)"
   ]
  },
  {
   "cell_type": "code",
   "execution_count": 16,
   "metadata": {},
   "outputs": [
    {
     "name": "stdout",
     "output_type": "stream",
     "text": [
      "1350\n"
     ]
    }
   ],
   "source": [
    "f = open(\"./data/input08.txt\")\n",
    "print(sum([ len(x.strip(\"\\n\")) - len( eval(x.strip(\"\\n\"))) for x in f.readlines() ]))"
   ]
  },
  {
   "cell_type": "code",
   "execution_count": 11,
   "metadata": {},
   "outputs": [
    {
     "name": "stdout",
     "output_type": "stream",
     "text": [
      "2085\n"
     ]
    }
   ],
   "source": [
    "import json\n",
    "\n",
    "#f = open(\"./data/day08test0.txt\")\n",
    "f = open(\"./data/input08.txt\")\n",
    "\n",
    "c = 0\n",
    "for x in f.readlines():\n",
    "    x = x.strip(\"\\n\")\n",
    "    s = json.dumps(x)\n",
    "    c = c + len(s) - len(x)\n",
    "print(c)"
   ]
  },
  {
   "cell_type": "code",
   "execution_count": 17,
   "metadata": {},
   "outputs": [
    {
     "name": "stdout",
     "output_type": "stream",
     "text": [
      "2085\n"
     ]
    }
   ],
   "source": [
    "import json\n",
    "f = open(\"./data/input08.txt\")\n",
    "print(sum([ len(json.dumps(x.strip(\"\\n\"))) - len(x.strip(\"\\n\")) for x in f.readlines() ]))"
   ]
  },
  {
   "cell_type": "code",
   "execution_count": null,
   "metadata": {},
   "outputs": [],
   "source": []
  }
 ],
 "metadata": {
  "kernelspec": {
   "display_name": "Python 3",
   "language": "python",
   "name": "python3"
  },
  "language_info": {
   "codemirror_mode": {
    "name": "ipython",
    "version": 3
   },
   "file_extension": ".py",
   "mimetype": "text/x-python",
   "name": "python",
   "nbconvert_exporter": "python",
   "pygments_lexer": "ipython3",
   "version": "3.9.0"
  }
 },
 "nbformat": 4,
 "nbformat_minor": 4
}
