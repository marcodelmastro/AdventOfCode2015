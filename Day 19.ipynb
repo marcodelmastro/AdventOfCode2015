{
 "cells": [
  {
   "cell_type": "markdown",
   "metadata": {},
   "source": [
    "# Day 19: Medicine for Rudolph\n",
    "\n",
    "https://adventofcode.com/2015/day/19\n",
    "\n",
    "## Part 1"
   ]
  },
  {
   "cell_type": "code",
   "execution_count": 261,
   "metadata": {},
   "outputs": [
    {
     "data": {
      "text/plain": [
       "['N', 'Rn', 'F', 'Ar']"
      ]
     },
     "execution_count": 261,
     "metadata": {},
     "output_type": "execute_result"
    }
   ],
   "source": [
    "def stringToElements(s):\n",
    "    sv = []\n",
    "    i = 0\n",
    "    while i<len(s):\n",
    "        if i<len(s)-1 and s[i+1].islower():\n",
    "            sv.append(s[i:i+2])\n",
    "            i+=2\n",
    "        else:\n",
    "            sv.append(s[i])\n",
    "            i+=1\n",
    "    return sv   \n",
    "\n",
    "#stringToElements(\"HOH\")\n",
    "stringToElements(\"NRnFAr\")"
   ]
  },
  {
   "cell_type": "code",
   "execution_count": 286,
   "metadata": {},
   "outputs": [
    {
     "data": {
      "text/plain": [
       "('HOH', {'H': ['HO', 'OH'], 'O': ['HH']})"
      ]
     },
     "execution_count": 286,
     "metadata": {},
     "output_type": "execute_result"
    }
   ],
   "source": [
    "def getMolAndRepl(filename):\n",
    "    f = open(filename)\n",
    "    r,s = f.read().split(\"\\n\\n\")\n",
    "    s = s.strip('\\n')\n",
    "    repl = {}\n",
    "    for l in r.split('\\n'):\n",
    "        t = l.strip(\"\\n\").split(\" => \")\n",
    "        if t[0] in repl.keys():\n",
    "            repl[t[0]].append( t[1] )\n",
    "        else:\n",
    "            repl[t[0]] = [ t[1] ]\n",
    "    return s,repl\n",
    "\n",
    "s, repl = getMolAndRepl(\"./data/day19test0.txt\")\n",
    "#s, repl = getMolAndRepl(\"./data/input19.txt\")\n",
    "s, repl"
   ]
  },
  {
   "cell_type": "code",
   "execution_count": 320,
   "metadata": {},
   "outputs": [
    {
     "name": "stdout",
     "output_type": "stream",
     "text": [
      "535\n"
     ]
    }
   ],
   "source": [
    "from collections import defaultdict\n",
    "\n",
    "def replaceElements(s,repl):\n",
    "\n",
    "    reps = defaultdict(lambda:0)\n",
    "    sv = stringToElements(s)\n",
    "\n",
    "    for i in range(len(sv)):\n",
    "        rep = \"\"\n",
    "        if i>0:\n",
    "            for j in range(0,i):\n",
    "                rep += sv[j]\n",
    "        repi = []\n",
    "        if sv[i] in repl.keys():\n",
    "            for r in repl[sv[i]]:\n",
    "                repi.append(rep+r)\n",
    "        else:\n",
    "            repi.append(rep+sv[i])\n",
    "        if i<len(sv)+1:\n",
    "            for j in range(i+1,len(sv)):\n",
    "                for k in range(len(repi)):\n",
    "                    repi[k] = repi[k]+sv[j]\n",
    "        for r in repi:\n",
    "            if r != s: \n",
    "                # don't count molecules that are copies of initial one\n",
    "                # because of elements with no replacement\n",
    "                reps[r] += 1\n",
    "    \n",
    "    return reps\n",
    "\n",
    "s, repl = getMolAndRepl(\"./data/input19.txt\")\n",
    "reps = replaceElements(s,repl)\n",
    "print(len(reps))"
   ]
  },
  {
   "cell_type": "code",
   "execution_count": 326,
   "metadata": {},
   "outputs": [
    {
     "name": "stdout",
     "output_type": "stream",
     "text": [
      "535\n"
     ]
    }
   ],
   "source": [
    "def replaceElementsReverse(s,repl):\n",
    "    reps = defaultdict(lambda:0)\n",
    "    sv = stringToElements(s)\n",
    "    for i in range(len(sv)-1,-1,-1):        \n",
    "        sbefore = sv[:i]\n",
    "        safter  = sv[i+1:]\n",
    "        repi = []\n",
    "        if sv[i] in repl.keys():\n",
    "            for r in repl[sv[i]]:\n",
    "                repi.append(sbefore+stringToElements(r)+safter)\n",
    "        else:\n",
    "            repi.append(sv)\n",
    "        for r in repi:\n",
    "             if r != sv: \n",
    "                reps[\"\".join(r)] += 1\n",
    "    return reps\n",
    "\n",
    "s, repl = getMolAndRepl(\"./data/input19.txt\")\n",
    "reps = replaceElementsReverse(s,repl)\n",
    "print(len(reps))"
   ]
  },
  {
   "cell_type": "markdown",
   "metadata": {},
   "source": [
    "## Part 2\n",
    "\n",
    "Even with pruning of solutions, backtracking seems to take too much: tree is too large!\n",
    "\n",
    "I need to find some pattern to simplify the problem and/or improve the pruning...\n",
    "\n",
    "Target molecule finishes in `F`, many replacement rules produce molecules finishing in `Ar`, and there's no replacement rule for `Ar`, so any molecule finishing in `Ar` could never become the targe molecule. This could be generalized to molecule with no replament rules.\n",
    "\n",
    "Maybe I should start the replacement procedure from the last element and check the tail element first?"
   ]
  },
  {
   "cell_type": "code",
   "execution_count": 330,
   "metadata": {},
   "outputs": [
    {
     "name": "stdout",
     "output_type": "stream",
     "text": [
      "1 3\n",
      "2 6\n",
      "3 14\n",
      "4 31\n",
      "5 70\n",
      "6 157\n",
      "7 353\n",
      "8 793\n",
      "9 1782\n",
      "10 4004\n",
      "11 8997\n",
      "12 20216\n",
      "13 45425\n"
     ]
    },
    {
     "ename": "KeyboardInterrupt",
     "evalue": "",
     "output_type": "error",
     "traceback": [
      "\u001b[0;31m---------------------------------------------------------------------------\u001b[0m",
      "\u001b[0;31mKeyboardInterrupt\u001b[0m                         Traceback (most recent call last)",
      "\u001b[0;32m<ipython-input-330-bacde961e1c0>\u001b[0m in \u001b[0;36m<module>\u001b[0;34m\u001b[0m\n\u001b[1;32m     24\u001b[0m             \u001b[0;31m# pruning of molecules that could not lead to final one\u001b[0m\u001b[0;34m\u001b[0m\u001b[0;34m\u001b[0m\u001b[0;34m\u001b[0m\u001b[0m\n\u001b[1;32m     25\u001b[0m             \u001b[0maddToNext\u001b[0m \u001b[0;34m=\u001b[0m \u001b[0;32mTrue\u001b[0m\u001b[0;34m\u001b[0m\u001b[0;34m\u001b[0m\u001b[0m\n\u001b[0;32m---> 26\u001b[0;31m             \u001b[0msr\u001b[0m \u001b[0;34m=\u001b[0m \u001b[0mstringToElements\u001b[0m\u001b[0;34m(\u001b[0m\u001b[0mr\u001b[0m\u001b[0;34m)\u001b[0m\u001b[0;34m\u001b[0m\u001b[0;34m\u001b[0m\u001b[0m\n\u001b[0m\u001b[1;32m     27\u001b[0m \u001b[0;34m\u001b[0m\u001b[0m\n\u001b[1;32m     28\u001b[0m             \u001b[0;31m# last element\u001b[0m\u001b[0;34m\u001b[0m\u001b[0;34m\u001b[0m\u001b[0;34m\u001b[0m\u001b[0m\n",
      "\u001b[0;32m<ipython-input-261-ebbbaf4f1975>\u001b[0m in \u001b[0;36mstringToElements\u001b[0;34m(s)\u001b[0m\n\u001b[1;32m      4\u001b[0m     \u001b[0;32mwhile\u001b[0m \u001b[0mi\u001b[0m\u001b[0;34m<\u001b[0m\u001b[0mlen\u001b[0m\u001b[0;34m(\u001b[0m\u001b[0ms\u001b[0m\u001b[0;34m)\u001b[0m\u001b[0;34m:\u001b[0m\u001b[0;34m\u001b[0m\u001b[0;34m\u001b[0m\u001b[0m\n\u001b[1;32m      5\u001b[0m         \u001b[0;32mif\u001b[0m \u001b[0mi\u001b[0m\u001b[0;34m<\u001b[0m\u001b[0mlen\u001b[0m\u001b[0;34m(\u001b[0m\u001b[0ms\u001b[0m\u001b[0;34m)\u001b[0m\u001b[0;34m-\u001b[0m\u001b[0;36m1\u001b[0m \u001b[0;32mand\u001b[0m \u001b[0ms\u001b[0m\u001b[0;34m[\u001b[0m\u001b[0mi\u001b[0m\u001b[0;34m+\u001b[0m\u001b[0;36m1\u001b[0m\u001b[0;34m]\u001b[0m\u001b[0;34m.\u001b[0m\u001b[0mislower\u001b[0m\u001b[0;34m(\u001b[0m\u001b[0;34m)\u001b[0m\u001b[0;34m:\u001b[0m\u001b[0;34m\u001b[0m\u001b[0;34m\u001b[0m\u001b[0m\n\u001b[0;32m----> 6\u001b[0;31m             \u001b[0msv\u001b[0m\u001b[0;34m.\u001b[0m\u001b[0mappend\u001b[0m\u001b[0;34m(\u001b[0m\u001b[0ms\u001b[0m\u001b[0;34m[\u001b[0m\u001b[0mi\u001b[0m\u001b[0;34m:\u001b[0m\u001b[0mi\u001b[0m\u001b[0;34m+\u001b[0m\u001b[0;36m2\u001b[0m\u001b[0;34m]\u001b[0m\u001b[0;34m)\u001b[0m\u001b[0;34m\u001b[0m\u001b[0;34m\u001b[0m\u001b[0m\n\u001b[0m\u001b[1;32m      7\u001b[0m             \u001b[0mi\u001b[0m\u001b[0;34m+=\u001b[0m\u001b[0;36m2\u001b[0m\u001b[0;34m\u001b[0m\u001b[0;34m\u001b[0m\u001b[0m\n\u001b[1;32m      8\u001b[0m         \u001b[0;32melse\u001b[0m\u001b[0;34m:\u001b[0m\u001b[0;34m\u001b[0m\u001b[0;34m\u001b[0m\u001b[0m\n",
      "\u001b[0;31mKeyboardInterrupt\u001b[0m: "
     ]
    }
   ],
   "source": [
    "from copy import deepcopy\n",
    "\n",
    "#s, repl = getMolAndRepl(\"./data/day19test1.txt\")\n",
    "s, repl = getMolAndRepl(\"./data/input19.txt\")\n",
    "\n",
    "#s = \"HOHOHO\"\n",
    "\n",
    "sv = stringToElements(s)\n",
    "mol = {'e' : 1}\n",
    "steps = 0\n",
    "\n",
    "while s not in mol.keys():\n",
    "    \n",
    "    newmol = defaultdict(lambda:0)\n",
    "    \n",
    "    for m in mol.keys():\n",
    "\n",
    "        for r in (replaceElementsReverse(m,repl)).keys():\n",
    "            \n",
    "            # skipping molecule step already saved\n",
    "            if r in newmol.keys():\n",
    "                continue\n",
    "            \n",
    "            # pruning of molecules that could not lead to final one\n",
    "            addToNext = True\n",
    "            sr = stringToElements(r)\n",
    "            \n",
    "            # last element \n",
    "            if sr[-1]!='F' and sr[-1] not in repl.keys():\n",
    "                addToNext = False            \n",
    "            else:\n",
    "                for e1,e2 in zip(sr,sv[:len(sr)]):\n",
    "                    # not equal to initial fraction of final one, and cannot change with replacement\n",
    "                    if e1!=e2 and e1 not in repl.keys(): \n",
    "                        addToNext = False\n",
    "                        break\n",
    "            \n",
    "            if addToNext: # and r not in testmol.keys():\n",
    "                newmol[r] += 1\n",
    "                \n",
    "    mol = deepcopy(newmol)\n",
    "    steps +=1\n",
    "    print(steps, len(mol))\n",
    "\n",
    "    # stop iterations: this would never converge in time...\n",
    "    #if steps == 8:\n",
    "    #    print(mol)\n",
    "    #    break\n",
    "\n",
    "print(\"Steps Part 2 =\",steps)"
   ]
  },
  {
   "cell_type": "code",
   "execution_count": null,
   "metadata": {},
   "outputs": [],
   "source": []
  }
 ],
 "metadata": {
  "kernelspec": {
   "display_name": "Python 3",
   "language": "python",
   "name": "python3"
  },
  "language_info": {
   "codemirror_mode": {
    "name": "ipython",
    "version": 3
   },
   "file_extension": ".py",
   "mimetype": "text/x-python",
   "name": "python",
   "nbconvert_exporter": "python",
   "pygments_lexer": "ipython3",
   "version": "3.9.0"
  }
 },
 "nbformat": 4,
 "nbformat_minor": 4
}
