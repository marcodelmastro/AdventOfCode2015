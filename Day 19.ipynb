{
 "cells": [
  {
   "cell_type": "markdown",
   "metadata": {},
   "source": [
    "# Day 19: Medicine for Rudolph\n",
    "\n",
    "https://adventofcode.com/2015/day/19\n",
    "\n",
    "## Part 1"
   ]
  },
  {
   "cell_type": "code",
   "execution_count": 2,
   "metadata": {},
   "outputs": [],
   "source": [
    "from functools import lru_cache\n",
    "\n",
    "@lru_cache\n",
    "def stringToElements(s):\n",
    "    sv = []\n",
    "    i = 0\n",
    "    while i<len(s):\n",
    "        if i<len(s)-1 and s[i+1].islower():\n",
    "            sv.append(s[i:i+2])\n",
    "            i+=2\n",
    "        else:\n",
    "            sv.append(s[i])\n",
    "            i+=1\n",
    "    return sv\n",
    "\n",
    "def getMolAndRepl(filename):\n",
    "    f = open(filename)\n",
    "    r,s = f.read().split(\"\\n\\n\")\n",
    "    s = s.strip('\\n')\n",
    "    repl = {}\n",
    "    for l in r.split('\\n'):\n",
    "        t = l.strip(\"\\n\").split(\" => \")\n",
    "        if t[0] in repl.keys():\n",
    "            repl[t[0]].append( stringToElements(t[1]) )\n",
    "        else:\n",
    "            repl[t[0]] = [ stringToElements(t[1]) ]\n",
    "    return s,repl"
   ]
  },
  {
   "cell_type": "code",
   "execution_count": 67,
   "metadata": {},
   "outputs": [
    {
     "name": "stdout",
     "output_type": "stream",
     "text": [
      "['N', 'Rn', 'F', 'Ar']\n",
      "['N', 'Rn', 'F', 'Ar']\n"
     ]
    }
   ],
   "source": [
    "print(stringToElements(\"NRnFAr\"))\n",
    "print(stringToElements(\"NRnFAr\"))"
   ]
  },
  {
   "cell_type": "code",
   "execution_count": 68,
   "metadata": {},
   "outputs": [
    {
     "data": {
      "text/plain": [
       "('CRnCaCaCaSiRnBPTiMgArSiRnSiRnMgArSiRnCaFArTiTiBSiThFYCaFArCaCaSiThCaPBSiThSiThCaCaPTiRnPBSiThRnFArArCaCaSiThCaSiThSiRnMgArCaPTiBPRnFArSiThCaSiRnFArBCaSiRnCaPRnFArPMgYCaFArCaPTiTiTiBPBSiThCaPTiBPBSiRnFArBPBSiRnCaFArBPRnSiRnFArRnSiRnBFArCaFArCaCaCaSiThSiThCaCaPBPTiTiRnFArCaPTiBSiAlArPBCaCaCaCaCaSiRnMgArCaSiThFArThCaSiThCaSiRnCaFYCaSiRnFYFArFArCaSiRnFYFArCaSiRnBPMgArSiThPRnFArCaSiRnFArTiRnSiRnFYFArCaSiRnBFArCaSiRnTiMgArSiThCaSiThCaFArPRnFArSiRnFArTiTiTiTiBCaCaSiRnCaCaFYFArSiThCaPTiBPTiBCaSiThSiRnMgArCaF',\n",
       " 505,\n",
       " {'Al': [['Th', 'F'], ['Th', 'Rn', 'F', 'Ar']],\n",
       "  'B': [['B', 'Ca'], ['Ti', 'B'], ['Ti', 'Rn', 'F', 'Ar']],\n",
       "  'Ca': [['Ca', 'Ca'],\n",
       "   ['P', 'B'],\n",
       "   ['P', 'Rn', 'F', 'Ar'],\n",
       "   ['Si', 'Rn', 'F', 'Y', 'F', 'Ar'],\n",
       "   ['Si', 'Rn', 'Mg', 'Ar'],\n",
       "   ['Si', 'Th']],\n",
       "  'F': [['Ca', 'F'], ['P', 'Mg'], ['Si', 'Al']],\n",
       "  'H': [['C', 'Rn', 'Al', 'Ar'],\n",
       "   ['C', 'Rn', 'F', 'Y', 'F', 'Y', 'F', 'Ar'],\n",
       "   ['C', 'Rn', 'F', 'Y', 'Mg', 'Ar'],\n",
       "   ['C', 'Rn', 'Mg', 'Y', 'F', 'Ar'],\n",
       "   ['H', 'Ca'],\n",
       "   ['N', 'Rn', 'F', 'Y', 'F', 'Ar'],\n",
       "   ['N', 'Rn', 'Mg', 'Ar'],\n",
       "   ['N', 'Th'],\n",
       "   ['O', 'B'],\n",
       "   ['O', 'Rn', 'F', 'Ar']],\n",
       "  'Mg': [['B', 'F'], ['Ti', 'Mg']],\n",
       "  'N': [['C', 'Rn', 'F', 'Ar'], ['H', 'Si']],\n",
       "  'O': [['C', 'Rn', 'F', 'Y', 'F', 'Ar'],\n",
       "   ['C', 'Rn', 'Mg', 'Ar'],\n",
       "   ['H', 'P'],\n",
       "   ['N', 'Rn', 'F', 'Ar'],\n",
       "   ['O', 'Ti']],\n",
       "  'P': [['Ca', 'P'], ['P', 'Ti'], ['Si', 'Rn', 'F', 'Ar']],\n",
       "  'Si': [['Ca', 'Si']],\n",
       "  'Th': [['Th', 'Ca']],\n",
       "  'Ti': [['B', 'P'], ['Ti', 'Ti']],\n",
       "  'e': [['H', 'F'], ['N', 'Al'], ['O', 'Mg']]})"
      ]
     },
     "execution_count": 68,
     "metadata": {},
     "output_type": "execute_result"
    }
   ],
   "source": [
    "#s, repl = getMolAndRepl(\"./data/day19test0.txt\")\n",
    "s, repl = getMolAndRepl(\"./data/input19.txt\")\n",
    "s, len(s), repl"
   ]
  },
  {
   "cell_type": "code",
   "execution_count": 69,
   "metadata": {},
   "outputs": [
    {
     "name": "stdout",
     "output_type": "stream",
     "text": [
      "Part 1 Test    =  4\n",
      "Part 1 Full    =  535\n"
     ]
    }
   ],
   "source": [
    "from collections import defaultdict\n",
    "\n",
    "def replaceElements(s,repl):\n",
    "    sv = stringToElements(s)\n",
    "    reps = defaultdict(lambda:0)\n",
    "    for i in range(len(sv)):\n",
    "        repi = []\n",
    "        if sv[i] in repl.keys():\n",
    "            for r in repl[sv[i]]:\n",
    "                repi.append(sv[:i]+r+sv[i+1:])\n",
    "        else:\n",
    "            repi.append(sv)\n",
    "        for r in repi:\n",
    "             if r != sv: \n",
    "                reps[\"\".join(r)] += 1\n",
    "    return reps\n",
    "\n",
    "s, repl = getMolAndRepl(\"./data/day19test0.txt\")\n",
    "reps = replaceElements(s,repl)\n",
    "print(\"Part 1 Test    = \",len(reps))\n",
    "\n",
    "s, repl = getMolAndRepl(\"./data/input19.txt\")\n",
    "reps = replaceElements(s,repl)\n",
    "print(\"Part 1 Full    = \",len(reps))"
   ]
  },
  {
   "cell_type": "markdown",
   "metadata": {},
   "source": [
    "## Part 2. First (failed) attempt: some kind of BFS algorithm\n",
    "\n",
    "Breadth-First Search algorithm (I think), with some pruning of solutions that could not complete to final molecule added. Unfortunately, it does not converge in time (list of partial molecules to expand becomes too large)."
   ]
  },
  {
   "cell_type": "code",
   "execution_count": 70,
   "metadata": {},
   "outputs": [
    {
     "name": "stdout",
     "output_type": "stream",
     "text": [
      "Target molecule element lenght = 6\n",
      "Evolving molecules...\n",
      "Step # Molecules\n",
      "1 2\n",
      "2 3\n",
      "3 7\n",
      "4 15\n",
      "5 31\n",
      "6 63\n",
      "Target Molecule found at step = 6\n"
     ]
    }
   ],
   "source": [
    "from copy import deepcopy\n",
    "\n",
    "#s, repl = getMolAndRepl(\"./data/input19.txt\")\n",
    "\n",
    "s, repl = getMolAndRepl(\"./data/day19test1.txt\")\n",
    "s = \"HOHOHO\"\n",
    "\n",
    "print(\"Target molecule element lenght =\",len(stringToElements(s)))\n",
    "\n",
    "mol = {'e' : 1}\n",
    "\n",
    "steps = 0\n",
    "sv = stringToElements(s)\n",
    "\n",
    "print(\"Evolving molecules...\")\n",
    "print(\"Step # Molecules\")\n",
    "\n",
    "while s not in mol.keys():\n",
    "    \n",
    "    newmol = defaultdict(lambda:0)\n",
    "    \n",
    "    for m in mol.keys():\n",
    "        \n",
    "        for r in replaceElements(m,repl):\n",
    "            \n",
    "            addToNext = True\n",
    "\n",
    "            # remove if molecule component is different from target\n",
    "            # component, and element cannot be replaced\n",
    "            if addToNext:\n",
    "                rv = stringToElements(r)\n",
    "                for e1,e2 in zip(rv,sv[:len(rv)]):\n",
    "                    if e1!=e2 and e1 not in repl.keys(): \n",
    "                        addToNext = False\n",
    "                        break\n",
    "            \n",
    "            if addToNext:\n",
    "                newmol[r] += 1\n",
    "                \n",
    "    mol = deepcopy(newmol)\n",
    "    steps +=1 \n",
    "    print(steps, len(mol))\n",
    "\n",
    "print(\"Target Molecule found at step =\",steps)"
   ]
  },
  {
   "cell_type": "markdown",
   "metadata": {},
   "source": [
    "## Part 2: Second (successfull!) attempt: going backward...\n",
    "\n",
    "Idea: \n",
    "* start from target molecule\n",
    "* count how many *replacement* molecules it contains, replace with origin element\n",
    "* rinse and repeat"
   ]
  },
  {
   "cell_type": "code",
   "execution_count": 24,
   "metadata": {},
   "outputs": [
    {
     "name": "stdout",
     "output_type": "stream",
     "text": [
      "Target molecule lenght = 505\n",
      "Replacing 2 molecules -> New molecule lenght = 503\n",
      "Replacing 3 molecules -> New molecule lenght = 498\n",
      "Replacing 7 molecules -> New molecule lenght = 490\n",
      "Replacing 15 molecules -> New molecule lenght = 474\n",
      "Replacing 16 molecules -> New molecule lenght = 468\n",
      "Replacing 25 molecules -> New molecule lenght = 450\n",
      "Replacing 37 molecules -> New molecule lenght = 450\n",
      "Replacing 41 molecules -> New molecule lenght = 434\n",
      "Replacing 44 molecules -> New molecule lenght = 413\n",
      "Replacing 48 molecules -> New molecule lenght = 389\n",
      "Replacing 63 molecules -> New molecule lenght = 359\n",
      "Replacing 73 molecules -> New molecule lenght = 339\n",
      "Replacing 75 molecules -> New molecule lenght = 335\n",
      "Replacing 79 molecules -> New molecule lenght = 323\n",
      "Replacing 83 molecules -> New molecule lenght = 323\n",
      "Replacing 86 molecules -> New molecule lenght = 317\n",
      "Replacing 89 molecules -> New molecule lenght = 311\n",
      "Replacing 92 molecules -> New molecule lenght = 305\n",
      "Replacing 99 molecules -> New molecule lenght = 263\n",
      "Replacing 105 molecules -> New molecule lenght = 251\n",
      "Replacing 106 molecules -> New molecule lenght = 249\n",
      "Replacing 108 molecules -> New molecule lenght = 249\n",
      "Replacing 109 molecules -> New molecule lenght = 247\n",
      "Replacing 112 molecules -> New molecule lenght = 241\n",
      "Replacing 114 molecules -> New molecule lenght = 237\n",
      "Replacing 135 molecules -> New molecule lenght = 195\n",
      "Replacing 139 molecules -> New molecule lenght = 195\n",
      "Replacing 140 molecules -> New molecule lenght = 188\n",
      "Replacing 144 molecules -> New molecule lenght = 164\n",
      "Replacing 152 molecules -> New molecule lenght = 148\n",
      "Replacing 153 molecules -> New molecule lenght = 146\n",
      "Replacing 154 molecules -> New molecule lenght = 144\n",
      "Replacing 158 molecules -> New molecule lenght = 136\n",
      "Replacing 161 molecules -> New molecule lenght = 130\n",
      "Replacing 164 molecules -> New molecule lenght = 124\n",
      "Replacing 165 molecules -> New molecule lenght = 122\n",
      "Replacing 176 molecules -> New molecule lenght = 100\n",
      "Replacing 177 molecules -> New molecule lenght = 100\n",
      "Replacing 179 molecules -> New molecule lenght = 92\n",
      "Replacing 181 molecules -> New molecule lenght = 78\n",
      "Replacing 182 molecules -> New molecule lenght = 72\n",
      "Replacing 187 molecules -> New molecule lenght = 62\n",
      "Replacing 189 molecules -> New molecule lenght = 58\n",
      "Replacing 190 molecules -> New molecule lenght = 56\n",
      "Replacing 191 molecules -> New molecule lenght = 54\n",
      "Replacing 195 molecules -> New molecule lenght = 46\n",
      "Replacing 196 molecules -> New molecule lenght = 39\n",
      "Replacing 199 molecules -> New molecule lenght = 33\n",
      "Replacing 201 molecules -> New molecule lenght = 29\n",
      "Replacing 203 molecules -> New molecule lenght = 25\n",
      "Replacing 205 molecules -> New molecule lenght = 17\n",
      "Replacing 207 molecules -> New molecule lenght = 13\n",
      "Replacing 208 molecules -> New molecule lenght = 12\n",
      "Replacing 209 molecules -> New molecule lenght = 10\n",
      "Replacing 210 molecules -> New molecule lenght = 8\n",
      "Replacing 211 molecules -> New molecule lenght = 3\n",
      "Replacing 212 molecules -> New molecule lenght = 1\n",
      "Final molecule = e , obtained with 212 steps\n"
     ]
    }
   ],
   "source": [
    "s, repl = getMolAndRepl(\"./data/input19.txt\")\n",
    "\n",
    "print(\"Target molecule lenght =\",len(s))\n",
    "\n",
    "count = 0\n",
    "while len(s)>1:\n",
    "    for k in repl.keys():\n",
    "        for g in repl[k]:\n",
    "            sg = \"\".join(g) # replacement molecule corresponsing to element k\n",
    "            if sg in s:\n",
    "                count += s.count(sg) # it can be containes more then once!\n",
    "                s = s.replace(sg,k)\n",
    "                print(\"Replacing\",count,\"molecules -> New molecule lenght =\",len(s))\n",
    "                \n",
    "print(\"Final molecule =\",s,\", obtained with\",count,\"steps\")"
   ]
  },
  {
   "cell_type": "code",
   "execution_count": null,
   "metadata": {},
   "outputs": [],
   "source": []
  }
 ],
 "metadata": {
  "kernelspec": {
   "display_name": "Python 3",
   "language": "python",
   "name": "python3"
  },
  "language_info": {
   "codemirror_mode": {
    "name": "ipython",
    "version": 3
   },
   "file_extension": ".py",
   "mimetype": "text/x-python",
   "name": "python",
   "nbconvert_exporter": "python",
   "pygments_lexer": "ipython3",
   "version": "3.9.0"
  }
 },
 "nbformat": 4,
 "nbformat_minor": 4
}
