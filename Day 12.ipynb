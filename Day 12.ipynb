{
 "cells": [
  {
   "cell_type": "markdown",
   "metadata": {},
   "source": [
    "# Day 12\n",
    "\n",
    "https://adventofcode.com/2015/day/12"
   ]
  },
  {
   "cell_type": "code",
   "execution_count": 57,
   "metadata": {},
   "outputs": [],
   "source": [
    "import json\n",
    "with open('./data/input12.txt', 'r') as fp:\n",
    "    obj = json.load(fp)"
   ]
  },
  {
   "cell_type": "code",
   "execution_count": 59,
   "metadata": {},
   "outputs": [],
   "source": [
    "def countNumbers(o):\n",
    "    '''Recursively count integers in list or dictionaries, skipping strings'''\n",
    "    count = 0  \n",
    "    if isinstance(o,list):\n",
    "        for c in o:\n",
    "            count += countNumbers(c)\n",
    "    elif isinstance(o,dict):\n",
    "        for k in o.keys():\n",
    "            count += countNumbers(o[k])\n",
    "    elif isinstance(o,int): # only consider integers\n",
    "        count += o\n",
    "    return count\n",
    "\n",
    "def countNumbersNotRed(o):\n",
    "    '''Recursively count integers in list or dictionaries, skipping strings and dict with 'red' content'''\n",
    "    count = 0  \n",
    "    if isinstance(o,list):\n",
    "        for c in o:\n",
    "            count += countNumbersNotRed(c)\n",
    "    elif isinstance(o,dict):\n",
    "        if 'red' in o.values():\n",
    "            return 0\n",
    "        else:\n",
    "            for k in o.keys():\n",
    "                count += countNumbersNotRed(o[k])\n",
    "    elif isinstance(o,int): # only consider integers\n",
    "        count += o\n",
    "    return count"
   ]
  },
  {
   "cell_type": "code",
   "execution_count": 60,
   "metadata": {},
   "outputs": [
    {
     "name": "stdout",
     "output_type": "stream",
     "text": [
      "111754\n"
     ]
    }
   ],
   "source": [
    "print(countNumbers(obj))"
   ]
  },
  {
   "cell_type": "code",
   "execution_count": 61,
   "metadata": {},
   "outputs": [
    {
     "name": "stdout",
     "output_type": "stream",
     "text": [
      "65402\n"
     ]
    }
   ],
   "source": [
    "print(countNumbersNotRed(obj))"
   ]
  },
  {
   "cell_type": "code",
   "execution_count": null,
   "metadata": {},
   "outputs": [],
   "source": []
  }
 ],
 "metadata": {
  "kernelspec": {
   "display_name": "Python 3",
   "language": "python",
   "name": "python3"
  },
  "language_info": {
   "codemirror_mode": {
    "name": "ipython",
    "version": 3
   },
   "file_extension": ".py",
   "mimetype": "text/x-python",
   "name": "python",
   "nbconvert_exporter": "python",
   "pygments_lexer": "ipython3",
   "version": "3.9.0"
  }
 },
 "nbformat": 4,
 "nbformat_minor": 4
}
