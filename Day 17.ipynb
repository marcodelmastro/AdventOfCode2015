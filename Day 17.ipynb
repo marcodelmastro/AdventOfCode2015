{
 "cells": [
  {
   "cell_type": "markdown",
   "metadata": {},
   "source": [
    "# Day 17: No Such Thing as Too Much\n",
    "\n",
    "https://adventofcode.com/2015/day/17"
   ]
  },
  {
   "cell_type": "code",
   "execution_count": 43,
   "metadata": {},
   "outputs": [
    {
     "name": "stdout",
     "output_type": "stream",
     "text": [
      "Part 1 = 1638\n",
      "Part 2 = 17\n"
     ]
    }
   ],
   "source": [
    "from itertools import combinations\n",
    "\n",
    "#containers = [5,5,10,15,20]\n",
    "#eggnog = 25\n",
    "\n",
    "f = open(\"./data/input17.txt\")\n",
    "containers = [ int(c.strip(\"\\n\")) for c in f.readlines() ]\n",
    "eggnog = 150\n",
    "\n",
    "count = 0\n",
    "ncont = []\n",
    "\n",
    "for nc in range(len(containers),1,-1):\n",
    "    for c in combinations(containers,nc):\n",
    "        if sum(c)==eggnog:\n",
    "            #print(c, sum(c))\n",
    "            count +=1\n",
    "            ncont.append(len(c))\n",
    "            \n",
    "print(\"Part 1 =\",count)\n",
    "print(\"Part 2 =\",ncont.count(min(ncont)))"
   ]
  },
  {
   "cell_type": "code",
   "execution_count": null,
   "metadata": {},
   "outputs": [],
   "source": []
  }
 ],
 "metadata": {
  "kernelspec": {
   "display_name": "Python 3",
   "language": "python",
   "name": "python3"
  },
  "language_info": {
   "codemirror_mode": {
    "name": "ipython",
    "version": 3
   },
   "file_extension": ".py",
   "mimetype": "text/x-python",
   "name": "python",
   "nbconvert_exporter": "python",
   "pygments_lexer": "ipython3",
   "version": "3.9.0"
  }
 },
 "nbformat": 4,
 "nbformat_minor": 4
}
