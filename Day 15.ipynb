{
 "cells": [
  {
   "cell_type": "markdown",
   "metadata": {},
   "source": [
    "# Day 15: Science for Hungry People\n",
    "\n",
    "https://adventofcode.com/2015/day/15"
   ]
  },
  {
   "cell_type": "code",
   "execution_count": 223,
   "metadata": {},
   "outputs": [],
   "source": [
    "import numpy as np\n",
    "\n",
    "prop = [ \"capacity\", \"durability\", \"flavor\", \"texture\", \"calories\" ]\n",
    "\n",
    "def getIngrValues(filename,prop):\n",
    "    f = open(filename)\n",
    "    ingr = []\n",
    "    values = []\n",
    "    for l in open(filename).readlines():\n",
    "        for p in prop:\n",
    "            l = l.replace(p,\"\")\n",
    "        l = l.replace(\":\",\"\").replace(\",\",\"\").strip(\"\\n\")\n",
    "        i = l.split(\"  \")\n",
    "        ingr.append(i[0])\n",
    "        v = []\n",
    "        for j in range(1,len(i)):\n",
    "            v.append(int(i[j]))\n",
    "        values.append(v)\n",
    "    return ingr,values\n",
    "\n",
    "def totalScore(cookie):\n",
    "    if True in (cookie[0,0:4]<0): # skip calculation if at least one negative value\n",
    "        return 0\n",
    "    r,c = cookie.shape\n",
    "    prod = 1\n",
    "    for i in range(c-1): # ignore calories\n",
    "        p = cookie[0,i]\n",
    "        if p<0: p=0\n",
    "        prod *= p\n",
    "    return(prod)"
   ]
  },
  {
   "cell_type": "code",
   "execution_count": 224,
   "metadata": {},
   "outputs": [
    {
     "name": "stdout",
     "output_type": "stream",
     "text": [
      "['Sugar', 'Sprinkles', 'Candy', 'Chocolate'] [[3, 0, 0, -3, 2], [-3, 3, 0, 0, 9], [-1, 0, 4, 0, 1], [0, 0, -2, 2, 8]]\n"
     ]
    }
   ],
   "source": [
    "#filename = \"./data/day15test0.txt\"\n",
    "filename = \"./data/input15.txt\"\n",
    "\n",
    "ingr,values = getIngrValues(filename,prop)\n",
    "print(ingr,values)"
   ]
  },
  {
   "cell_type": "code",
   "execution_count": 222,
   "metadata": {},
   "outputs": [
    {
     "name": "stdout",
     "output_type": "stream",
     "text": [
      "Score Part 1 = 222870\n",
      "Score Part 2 = 117936\n"
     ]
    }
   ],
   "source": [
    "from itertools import permutations\n",
    "\n",
    "ni = len(ingr)\n",
    "s = range(1,100)\n",
    "\n",
    "scoremax1 = 0\n",
    "scoremax2 = 0\n",
    "\n",
    "for c in permutations(s,ni):\n",
    "    \n",
    "    # the amount of each ingredients must add up to 100\n",
    "    if sum(c)!=100:\n",
    "        continue\n",
    "    \n",
    "    w = np.matrix(c)\n",
    "    cookie = w*values # matrix multiplication\n",
    "    score = totalScore(cookie)\n",
    "    \n",
    "    if score and score>scoremax1:\n",
    "        scoremax1=score\n",
    "        \n",
    "    calories = cookie[0,4]\n",
    "    if calories==500 and score and score>scoremax2:\n",
    "            scoremax2=score\n",
    "\n",
    "print(\"Score Part 1 =\",scoremax1)\n",
    "print(\"Score Part 2 =\",scoremax2)"
   ]
  },
  {
   "cell_type": "code",
   "execution_count": null,
   "metadata": {},
   "outputs": [],
   "source": []
  }
 ],
 "metadata": {
  "kernelspec": {
   "display_name": "Python 3",
   "language": "python",
   "name": "python3"
  },
  "language_info": {
   "codemirror_mode": {
    "name": "ipython",
    "version": 3
   },
   "file_extension": ".py",
   "mimetype": "text/x-python",
   "name": "python",
   "nbconvert_exporter": "python",
   "pygments_lexer": "ipython3",
   "version": "3.9.0"
  }
 },
 "nbformat": 4,
 "nbformat_minor": 4
}
