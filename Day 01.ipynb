{
 "cells": [
  {
   "cell_type": "markdown",
   "metadata": {},
   "source": [
    "# Day 1: Not Quite Lisp \n",
    "\n",
    "https://adventofcode.com/2015/day/1"
   ]
  },
  {
   "cell_type": "code",
   "execution_count": 2,
   "metadata": {},
   "outputs": [
    {
     "name": "stdout",
     "output_type": "stream",
     "text": [
      "Final floor = 74\n"
     ]
    }
   ],
   "source": [
    "f = open(\"data/input01.txt\")\n",
    "instructions = [ l.strip(\"\\n\") for l in f.readlines() ]\n",
    "\n",
    "finalfloor = instructions[0].count('(')-instructions[0].count(')')\n",
    "print(\"Final floor =\",finalfloor)"
   ]
  },
  {
   "cell_type": "code",
   "execution_count": 3,
   "metadata": {},
   "outputs": [
    {
     "name": "stdout",
     "output_type": "stream",
     "text": [
      "Reached basement at position 1795\n"
     ]
    }
   ],
   "source": [
    "floor = 0\n",
    "pos = 1\n",
    "for i in instructions[0]:\n",
    "    if i==\"(\":\n",
    "        floor+=1\n",
    "    else:\n",
    "        floor-=1\n",
    "    if floor==-1:\n",
    "        print(\"Reached basement at position\",pos)\n",
    "        break\n",
    "    pos +=1"
   ]
  },
  {
   "cell_type": "code",
   "execution_count": null,
   "metadata": {},
   "outputs": [],
   "source": []
  }
 ],
 "metadata": {
  "kernelspec": {
   "display_name": "Python 3",
   "language": "python",
   "name": "python3"
  },
  "language_info": {
   "codemirror_mode": {
    "name": "ipython",
    "version": 3
   },
   "file_extension": ".py",
   "mimetype": "text/x-python",
   "name": "python",
   "nbconvert_exporter": "python",
   "pygments_lexer": "ipython3",
   "version": "3.9.0"
  }
 },
 "nbformat": 4,
 "nbformat_minor": 4
}
