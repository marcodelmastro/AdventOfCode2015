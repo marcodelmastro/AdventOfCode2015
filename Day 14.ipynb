{
 "cells": [
  {
   "cell_type": "markdown",
   "metadata": {},
   "source": [
    "# Day 14: \n",
    "\n",
    "https://adventofcode.com/2015/day/14"
   ]
  },
  {
   "cell_type": "code",
   "execution_count": 2,
   "metadata": {},
   "outputs": [],
   "source": [
    "class Raindeer:\n",
    "    \n",
    "    def __init__(self,name,speed,tmove,trest):\n",
    "        self.name = name\n",
    "        self.speed = speed\n",
    "        self.tmove = tmove\n",
    "        self.trest = trest\n",
    "        self.isResting = False\n",
    "        self.time = 0\n",
    "        self.space = 0\n",
    "        self.tmoving = 0 \n",
    "        self.tresting = 0 \n",
    "        self.points = 0\n",
    "    \n",
    "    def cycle(self):\n",
    "        self.time += 1\n",
    "        if self.isResting:\n",
    "            self.tresting += 1\n",
    "            if self.tresting == self.trest:\n",
    "                self.tresting = 0\n",
    "                self.isResting = False\n",
    "        else:\n",
    "            self.space += self.speed\n",
    "            self.tmoving += 1\n",
    "            if self.tmoving == self.tmove:\n",
    "                self.tmoving = 0\n",
    "                self.isResting = True"
   ]
  },
  {
   "cell_type": "code",
   "execution_count": 4,
   "metadata": {},
   "outputs": [
    {
     "name": "stdout",
     "output_type": "stream",
     "text": [
      "Part 1 = 2655\n",
      "Part 2 = 1059\n"
     ]
    }
   ],
   "source": [
    "#filename = \"./data/day14test0.txt\"\n",
    "#time = 1000    \n",
    "\n",
    "filename = \"./data/input14.txt\"\n",
    "time = 2503\n",
    "\n",
    "f = open(filename)\n",
    "raindeers = []\n",
    "for l in f.readlines():\n",
    "    r = l.strip(\"\\n\").replace(\"can fly \",\"\").replace(\"km/s for \",\"\").replace(\"seconds, but then must rest for \",\"\").replace(\" seconds.\",\"\").split(\" \")\n",
    "    raindeers.append(Raindeer(r[0],int(r[1]),int(r[2]),int(r[3])))\n",
    "\n",
    "for _ in range(time):\n",
    "    pos = []\n",
    "    for r in raindeers:\n",
    "        r.cycle()\n",
    "        pos.append(r.space)\n",
    "    leads = [g for g, x in enumerate(pos) if x == max(pos)]\n",
    "    for r in leads:\n",
    "        raindeers[r].points += 1\n",
    "        \n",
    "print(\"Part 1 =\",max([ r.space for r in raindeers]))\n",
    "print(\"Part 2 =\",max([ r.points for r in raindeers]))"
   ]
  },
  {
   "cell_type": "code",
   "execution_count": null,
   "metadata": {},
   "outputs": [],
   "source": []
  }
 ],
 "metadata": {
  "kernelspec": {
   "display_name": "Python 3",
   "language": "python",
   "name": "python3"
  },
  "language_info": {
   "codemirror_mode": {
    "name": "ipython",
    "version": 3
   },
   "file_extension": ".py",
   "mimetype": "text/x-python",
   "name": "python",
   "nbconvert_exporter": "python",
   "pygments_lexer": "ipython3",
   "version": "3.9.0"
  }
 },
 "nbformat": 4,
 "nbformat_minor": 4
}
