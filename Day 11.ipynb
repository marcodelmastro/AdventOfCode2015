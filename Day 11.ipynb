{
 "cells": [
  {
   "cell_type": "markdown",
   "metadata": {},
   "source": [
    "# Day 11: Corporate Policy\n",
    "\n",
    "https://adventofcode.com/2015/day/11"
   ]
  },
  {
   "cell_type": "markdown",
   "metadata": {},
   "source": [
    "## Part 1, first attempt\n",
    "\n",
    "I initially tried to use strings and modify them accordingly, but Python strings are *immutable*, so to increment I have to create a new string, and this is slow. Also, string comparison and search might not be very efficient: ultimately I could not converge with the example passwords in a decent time. The code below is left to track my train of though..."
   ]
  },
  {
   "cell_type": "code",
   "execution_count": 2,
   "metadata": {},
   "outputs": [
    {
     "name": "stdout",
     "output_type": "stream",
     "text": [
      "abcdfegi\n"
     ]
    }
   ],
   "source": [
    "import string\n",
    "\n",
    "def incrementString(s):\n",
    "    alph = string.ascii_lowercase\n",
    "    snew = \"\"\n",
    "    for pos in range(len(s)-1,-1,-1):\n",
    "        i = alph.index(s[pos])\n",
    "        if i+1==26:\n",
    "            snew = alph[0]\n",
    "        else:\n",
    "            snew = alph[i+1] + snew\n",
    "            break\n",
    "    return s[0:-len(snew)]+snew\n",
    "\n",
    "s = \"abcdfegh\"\n",
    "print(incrementString(s))"
   ]
  },
  {
   "cell_type": "code",
   "execution_count": 3,
   "metadata": {},
   "outputs": [
    {
     "name": "stdout",
     "output_type": "stream",
     "text": [
      "abcdfeif\n"
     ]
    }
   ],
   "source": [
    "s = \"abcdfegh\" \n",
    "\n",
    "for _ in range(50):\n",
    "    s_new = incrementString(s)\n",
    "    s = s_new\n",
    "print(s)"
   ]
  },
  {
   "cell_type": "code",
   "execution_count": 4,
   "metadata": {},
   "outputs": [],
   "source": [
    "def hasIncreasingStraight(s):\n",
    "    alph = string.ascii_lowercase\n",
    "    for i in range(len(alph)-2):\n",
    "        if alph[i:i+3] in s:\n",
    "            return True\n",
    "    return False\n",
    "\n",
    "from collections import defaultdict\n",
    "\n",
    "def hasNonOverlappingPairs(s):\n",
    "    pair = defaultdict(lambda:0)\n",
    "    for i in range(len(s)-1):\n",
    "        if s[i]==s[i+1]:\n",
    "            pat = s[i:i+2]\n",
    "            pair[pat] +=1\n",
    "    if len(pair.keys())>=2:\n",
    "        return True\n",
    "    if len(pair.keys())==1:\n",
    "        for p in pair.keys():\n",
    "            if pair[p]==1:\n",
    "                return False # only one pair\n",
    "            if pair[p]>=3:\n",
    "                return True # more then 1 pair of same latter, non overlapping\n",
    "            else:\n",
    "                if s.count(p[0]) > 3:\n",
    "                    return True # non overlapping pairs\n",
    "                else:\n",
    "                    return False\n",
    "\n",
    "def checkPassword(s):\n",
    "    # Passwords may not contain the letters i, o, or l\n",
    "    if \"i\" in s or \"o\" in s or \"l\" in s:\n",
    "        return False\n",
    "    # Passwords must include one increasing straight of at least three letters\n",
    "    if not hasIncreasingStraight(s):\n",
    "        return False\n",
    "    # Passwords must contain at least two different, non-overlapping pairs of letters\n",
    "    if not hasNonOverlappingPairs(s):\n",
    "        return False\n",
    "    return True"
   ]
  },
  {
   "cell_type": "code",
   "execution_count": 7,
   "metadata": {},
   "outputs": [
    {
     "name": "stdout",
     "output_type": "stream",
     "text": [
      "True False\n",
      "False True\n",
      "False False\n"
     ]
    }
   ],
   "source": [
    "# hijklmmn meets the first requirement (because it contains the straight hij) \n",
    "# but fails the second requirement requirement (because it contains i and l).\n",
    "print(hasIncreasingStraight(\"hijklmmn\"), checkPassword(\"hijklmmn\"))\n",
    "\n",
    "\n",
    "# abbceffg meets the third requirement (because it repeats bb and ff) but fails the first requirement.\n",
    "print(hasIncreasingStraight(\"abbceffg\"), hasNonOverlappingPairs(\"abbceffg\"))\n",
    "\n",
    "# abbcegjk fails the third requirement, because it only has one double letter (bb).\n",
    "print(hasNonOverlappingPairs(\"abbcegjk\"), hasIncreasingStraight(\"abbcegjk\"))"
   ]
  },
  {
   "cell_type": "code",
   "execution_count": 8,
   "metadata": {},
   "outputs": [],
   "source": [
    "# Brute force search takes forever... ;-(\n",
    "\n",
    "s = \"abcdefgh\" # abcdffaa\n",
    "#s = \"ghijklmn\" # ghjaabcc\n",
    "#s = \"vzbxkghb\"\n",
    "\n",
    "#while True:\n",
    "#    s_new = incrementString(s)\n",
    "#    if checkPassword(s_new):\n",
    "#        print(s_new)\n",
    "#        break\n",
    "#    s = s_new    "
   ]
  },
  {
   "cell_type": "markdown",
   "metadata": {},
   "source": [
    "## Part 1, new idea\n",
    "\n",
    "Treat string as vector of character, this should make them mutable and callable, and increment can proceed with change of only a few elements of the vector at a time (vector = python list)"
   ]
  },
  {
   "cell_type": "code",
   "execution_count": 14,
   "metadata": {},
   "outputs": [
    {
     "name": "stdout",
     "output_type": "stream",
     "text": [
      "abcdefgi\n"
     ]
    }
   ],
   "source": [
    "import string\n",
    "\n",
    "def stringToVec(s):\n",
    "    return [ c for c in s ]\n",
    "\n",
    "def vecToString(v):\n",
    "    s = \"\"\n",
    "    for c in v:\n",
    "        s += c\n",
    "    return s\n",
    "\n",
    "alphVec = stringToVec(string.ascii_lowercase)\n",
    "\n",
    "def incrementStringVec(s,alphVec):\n",
    "    alph = string.ascii_lowercase\n",
    "    for pos in range(len(s)-1,-1,-1):\n",
    "        i = alph.index(s[pos])\n",
    "        if i+1==26:\n",
    "            s[pos] = alph[0]\n",
    "        else:\n",
    "            s[pos] = alph[i+1]\n",
    "            break\n",
    "    return\n",
    "\n",
    "s = stringToVec(\"abcdefgh\")\n",
    "incrementStringVec(s,alphVec)\n",
    "print(vecToString(s))"
   ]
  },
  {
   "cell_type": "code",
   "execution_count": 16,
   "metadata": {},
   "outputs": [],
   "source": [
    "def hasIncreasingStraightVec(s,alphVec):\n",
    "    for i in range(len(alphVec)-2):\n",
    "        for j in range(len(s)-2):\n",
    "            if alphVec[i:i+3] == s[j:j+3]:\n",
    "                return True\n",
    "    return False\n",
    "\n",
    "from collections import defaultdict\n",
    "\n",
    "def hasNonOverlappingPairsVec(s):\n",
    "    pair = defaultdict(lambda:0)\n",
    "    for i in range(len(s)-1):\n",
    "        if s[i]==s[i+1]:\n",
    "            pair[s[i]] +=1\n",
    "    if len(pair.keys())<1:\n",
    "        return False\n",
    "    if len(pair.keys())>=2:\n",
    "        return True\n",
    "    if len(pair.keys())==1:\n",
    "        for p in pair.keys():\n",
    "            if pair[p]==1:\n",
    "                return False # only one pair\n",
    "            if pair[p]>=3:\n",
    "                return True # more then 1 pair of same latter, non overlapping\n",
    "            else:\n",
    "                # explicitely check for pair overlap\n",
    "                ip = []\n",
    "                for i in range(len(s)-1):\n",
    "                    if s[i]==s[i+1] and i-1 not in ip:\n",
    "                        ip.append(i)\n",
    "                    if len(ip)>=2:\n",
    "                        return True\n",
    "                    else:\n",
    "                        return False\n",
    "                \n",
    "def checkPasswordVec(s,alphaVec):\n",
    "    # Passwords may not contain the letters i, o, or l\n",
    "    if \"i\" in s or \"o\" in s or \"l\" in s:\n",
    "        return False\n",
    "    # Passwords must include one increasing straight of at least three letters\n",
    "    if not hasIncreasingStraightVec(s,alphaVec):\n",
    "        return False\n",
    "    # Passwords must contain at least two different, non-overlapping pairs of letters\n",
    "    if not hasNonOverlappingPairsVec(s):\n",
    "        return False\n",
    "    return True"
   ]
  },
  {
   "cell_type": "code",
   "execution_count": 17,
   "metadata": {},
   "outputs": [
    {
     "data": {
      "text/plain": [
       "True"
      ]
     },
     "execution_count": 17,
     "metadata": {},
     "output_type": "execute_result"
    }
   ],
   "source": [
    "s = stringToVec(\"fbcdfaaaa\")\n",
    "hasNonOverlappingPairsVec(s)\n",
    "\n",
    "s = stringToVec(\"abcdaaaa\")\n",
    "checkPasswordVec(s,alphVec)"
   ]
  },
  {
   "cell_type": "code",
   "execution_count": 19,
   "metadata": {},
   "outputs": [
    {
     "name": "stdout",
     "output_type": "stream",
     "text": [
      "vzbxxyzz\n"
     ]
    }
   ],
   "source": [
    "#s = stringToVec(\"abcdefgh\") # abcdffaa\n",
    "#s = stringToVec(\"ghijklmn\") # ghjaabcc\n",
    "s = stringToVec(\"vzbxkghb\")\n",
    "\n",
    "while True:\n",
    "    incrementStringVec(s,alphVec)\n",
    "    if checkPasswordVec(s,alphVec):\n",
    "        #print(s)\n",
    "        break\n",
    "\n",
    "r = vecToString(s)\n",
    "print(r)"
   ]
  },
  {
   "cell_type": "markdown",
   "metadata": {},
   "source": [
    "## Part 2\n",
    "\n",
    "Longer, but it still finds next in decent time..."
   ]
  },
  {
   "cell_type": "code",
   "execution_count": 22,
   "metadata": {},
   "outputs": [
    {
     "name": "stdout",
     "output_type": "stream",
     "text": [
      "vzcaabcc\n"
     ]
    }
   ],
   "source": [
    "#s = stringToVec(r)\n",
    "s = stringToVec(\"vzbxxyzz\")\n",
    "\n",
    "while True:\n",
    "    incrementStringVec(s,alphVec)\n",
    "    if checkPasswordVec(s,alphVec):\n",
    "        #print(s)\n",
    "        break\n",
    "        \n",
    "r2 = vecToString(s)\n",
    "print(r2)"
   ]
  },
  {
   "cell_type": "code",
   "execution_count": null,
   "metadata": {},
   "outputs": [],
   "source": []
  }
 ],
 "metadata": {
  "kernelspec": {
   "display_name": "Python 3",
   "language": "python",
   "name": "python3"
  },
  "language_info": {
   "codemirror_mode": {
    "name": "ipython",
    "version": 3
   },
   "file_extension": ".py",
   "mimetype": "text/x-python",
   "name": "python",
   "nbconvert_exporter": "python",
   "pygments_lexer": "ipython3",
   "version": "3.9.0"
  }
 },
 "nbformat": 4,
 "nbformat_minor": 4
}
