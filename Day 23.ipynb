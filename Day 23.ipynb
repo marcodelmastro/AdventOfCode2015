{
 "cells": [
  {
   "cell_type": "markdown",
   "metadata": {},
   "source": [
    "# Day 23: Opening the Turing Lock\n",
    "\n",
    "https://adventofcode.com/2015/day/23"
   ]
  },
  {
   "cell_type": "code",
   "execution_count": 59,
   "metadata": {},
   "outputs": [],
   "source": [
    "def runProg(prog,a=0,verbose=False):\n",
    "\n",
    "    reg = {'a': a, 'b':0}\n",
    "\n",
    "    i = 0\n",
    "\n",
    "    while True:\n",
    "\n",
    "        ins = prog[i][0]\n",
    "        r = prog[i][1]\n",
    "\n",
    "        if verbose:\n",
    "            print(i,ins,r,end=\" -> \")\n",
    "\n",
    "        # hlf r sets register r to half its current value, then continues with the next instruction.\n",
    "        if ins==\"hlf\":\n",
    "            reg[r] = reg[r]//2\n",
    "            i+=1\n",
    "\n",
    "        # tpl r sets register r to triple its current value, then continues with the next instruction.\n",
    "        elif ins==\"tpl\":\n",
    "            reg[r] = 3*reg[r]\n",
    "            i+=1\n",
    "\n",
    "        # inc r increments register r, adding 1 to it, then continues with the next instruction.\n",
    "        elif ins==\"inc\":\n",
    "            reg[r] += 1\n",
    "            i+=1\n",
    "\n",
    "        # jmp offset is a jump; it continues with the instruction offset away relative to itself.\n",
    "        elif ins==\"jmp\":\n",
    "            i+=int(r)\n",
    "\n",
    "        # jie r, offset is like jmp, but only jumps if register r is even (\"jump if even\").\n",
    "        elif ins==\"jie\":\n",
    "            if reg[r]%2==0:\n",
    "                i+=int(prog[i][2])\n",
    "            else:\n",
    "                i+=1\n",
    "\n",
    "        # jio r, offset is like jmp, but only jumps if register r is 1 (\"jump if one\", not odd).  \n",
    "        elif ins==\"jio\":\n",
    "            if reg[r]==1:\n",
    "                i+=int(prog[i][2])\n",
    "            else:\n",
    "                i+=1\n",
    "\n",
    "        if verbose:\n",
    "            print(reg)\n",
    "            \n",
    "        if i>= len(prog):\n",
    "            break\n",
    "    \n",
    "    return reg"
   ]
  },
  {
   "cell_type": "code",
   "execution_count": 60,
   "metadata": {},
   "outputs": [
    {
     "name": "stdout",
     "output_type": "stream",
     "text": [
      "0 inc a -> {'a': 1, 'b': 0}\n",
      "1 jio a -> {'a': 1, 'b': 0}\n",
      "3 inc a -> {'a': 2, 'b': 0}\n",
      "{'a': 2, 'b': 0}\n"
     ]
    }
   ],
   "source": [
    "f = open(\"./data/day23test0.txt\")\n",
    "prog = [ l.strip(\"\\n\").replace(\",\",\"\").split(\" \") for l in f.readlines()]\n",
    "reg = runProg(prog,verbose=True)\n",
    "print(reg)"
   ]
  },
  {
   "cell_type": "code",
   "execution_count": 61,
   "metadata": {},
   "outputs": [
    {
     "name": "stdout",
     "output_type": "stream",
     "text": [
      "307\n"
     ]
    }
   ],
   "source": [
    "f = open(\"./data/input23.txt\")\n",
    "prog = [ l.strip(\"\\n\").replace(\",\",\"\").split(\" \") for l in f.readlines()]\n",
    "reg = runProg(prog)\n",
    "print(reg['b'])"
   ]
  },
  {
   "cell_type": "code",
   "execution_count": 62,
   "metadata": {},
   "outputs": [
    {
     "name": "stdout",
     "output_type": "stream",
     "text": [
      "160\n"
     ]
    }
   ],
   "source": [
    "reg = runProg(prog,a=1)\n",
    "print(reg['b'])"
   ]
  },
  {
   "cell_type": "code",
   "execution_count": null,
   "metadata": {},
   "outputs": [],
   "source": []
  }
 ],
 "metadata": {
  "kernelspec": {
   "display_name": "Python 3",
   "language": "python",
   "name": "python3"
  },
  "language_info": {
   "codemirror_mode": {
    "name": "ipython",
    "version": 3
   },
   "file_extension": ".py",
   "mimetype": "text/x-python",
   "name": "python",
   "nbconvert_exporter": "python",
   "pygments_lexer": "ipython3",
   "version": "3.9.0"
  }
 },
 "nbformat": 4,
 "nbformat_minor": 4
}
