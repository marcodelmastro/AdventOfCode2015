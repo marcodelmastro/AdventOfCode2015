{
 "cells": [
  {
   "cell_type": "markdown",
   "metadata": {},
   "source": [
    "# Day 25: Let It Snow\n",
    "\n",
    "https://adventofcode.com/2015/day/25"
   ]
  },
  {
   "cell_type": "code",
   "execution_count": 1,
   "metadata": {},
   "outputs": [],
   "source": [
    "def getCode(r0=6,c0=1):\n",
    "    code = 20151125\n",
    "    rmax = 0\n",
    "    while True:\n",
    "        c = 0\n",
    "        for r in range(rmax,-1,-1):\n",
    "            if c+1==c0 and r+1==r0:\n",
    "                return code\n",
    "            code = (code * 252533) % 33554393\n",
    "            c+=1\n",
    "        rmax +=1"
   ]
  },
  {
   "cell_type": "code",
   "execution_count": 2,
   "metadata": {},
   "outputs": [
    {
     "name": "stdout",
     "output_type": "stream",
     "text": [
      "33071741\n"
     ]
    }
   ],
   "source": [
    "print(getCode(6,1))"
   ]
  },
  {
   "cell_type": "code",
   "execution_count": 3,
   "metadata": {},
   "outputs": [
    {
     "name": "stdout",
     "output_type": "stream",
     "text": [
      "19980801\n"
     ]
    }
   ],
   "source": [
    "print(getCode(2947,3029))"
   ]
  },
  {
   "cell_type": "code",
   "execution_count": null,
   "metadata": {},
   "outputs": [],
   "source": []
  }
 ],
 "metadata": {
  "kernelspec": {
   "display_name": "Python 3",
   "language": "python",
   "name": "python3"
  },
  "language_info": {
   "codemirror_mode": {
    "name": "ipython",
    "version": 3
   },
   "file_extension": ".py",
   "mimetype": "text/x-python",
   "name": "python",
   "nbconvert_exporter": "python",
   "pygments_lexer": "ipython3",
   "version": "3.9.0"
  }
 },
 "nbformat": 4,
 "nbformat_minor": 4
}
