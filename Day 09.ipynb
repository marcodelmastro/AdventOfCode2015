{
 "cells": [
  {
   "cell_type": "markdown",
   "metadata": {},
   "source": [
    "# Day 9 : All in a Single Night \n",
    "\n",
    "https://adventofcode.com/2015/day/9"
   ]
  },
  {
   "cell_type": "code",
   "execution_count": 65,
   "metadata": {},
   "outputs": [],
   "source": [
    "import numpy as np\n",
    "\n",
    "def getDistanceMatrix(filename):\n",
    "    \n",
    "    f = open(filename)\n",
    "    dist = {}\n",
    "    dest = []\n",
    "    for l in f.readlines():\n",
    "        p = l.strip(\"\\n\").split(\" = \")\n",
    "        d = int(p[1])\n",
    "        c1,c2 = p[0].split(\" to \")\n",
    "        if c1 not in dest:\n",
    "            dest.append(c1)\n",
    "        if c2 not in dest:\n",
    "            dest.append(c2)\n",
    "        dist[(c1,c2)] = d\n",
    "        dist[(c2,c1)] = d\n",
    "\n",
    "    G = np.zeros((len(dest),len(dest)),dtype=int)\n",
    "    r = 0\n",
    "    for c1 in dest:\n",
    "        c = 0\n",
    "        for c2 in dest:\n",
    "            if c1==c2:\n",
    "                G[r][c] = 0\n",
    "            else:\n",
    "                G[r][c] = dist[(c1,c2)]\n",
    "            c+=1\n",
    "        r+=1\n",
    "        \n",
    "    return G, dest"
   ]
  },
  {
   "cell_type": "code",
   "execution_count": 66,
   "metadata": {},
   "outputs": [
    {
     "data": {
      "text/plain": [
       "(['London', 'Dublin', 'Belfast'],\n",
       " array([[  0, 464, 518],\n",
       "        [464,   0, 141],\n",
       "        [518, 141,   0]]))"
      ]
     },
     "execution_count": 66,
     "metadata": {},
     "output_type": "execute_result"
    }
   ],
   "source": [
    "G, dest = getDistanceMatrix(\"./data/day09test0.txt\")\n",
    "dest, G"
   ]
  },
  {
   "cell_type": "code",
   "execution_count": 67,
   "metadata": {},
   "outputs": [
    {
     "data": {
      "text/plain": [
       "(['Faerun',\n",
       "  'Tristram',\n",
       "  'Tambi',\n",
       "  'Norrath',\n",
       "  'Snowdin',\n",
       "  'Straylight',\n",
       "  'AlphaCentauri',\n",
       "  'Arbre'],\n",
       " array([[  0,  65, 129, 144,  71, 137,   3, 149],\n",
       "        [ 65,   0,  63,   4, 105, 125,  55,  14],\n",
       "        [129,  63,   0,  68,  52,  65,  22, 143],\n",
       "        [144,   4,  68,   0,   8,  23, 136, 115],\n",
       "        [ 71, 105,  52,   8,   0, 101,  84,  96],\n",
       "        [137, 125,  65,  23, 101,   0, 107,  14],\n",
       "        [  3,  55,  22, 136,  84, 107,   0,  46],\n",
       "        [149,  14, 143, 115,  96,  14,  46,   0]]))"
      ]
     },
     "execution_count": 67,
     "metadata": {},
     "output_type": "execute_result"
    }
   ],
   "source": [
    "G, dest = getDistanceMatrix(\"./data/input09.txt\")\n",
    "dest, G"
   ]
  },
  {
   "cell_type": "markdown",
   "metadata": {},
   "source": [
    "This a Traveling Salesman problem, so in principle brute force search is not efficient. \n",
    "On the other hand, the number of stops is <20 (8 in full input) to it could still be feasible..."
   ]
  },
  {
   "cell_type": "code",
   "execution_count": 78,
   "metadata": {},
   "outputs": [
    {
     "name": "stdout",
     "output_type": "stream",
     "text": [
      "117\n"
     ]
    }
   ],
   "source": [
    "from itertools import permutations\n",
    "\n",
    "start = 0\n",
    "explored = []\n",
    "paths = []\n",
    "for path in permutations(range(len(G)),len(G)):\n",
    "    # this does not really speed up search, since it's costly to search in list!\n",
    "    #if path[::-1] in explored: # avoid checking inverse path\n",
    "    #    continue\n",
    "    l = 0\n",
    "    for i in range(len(path)-1):\n",
    "        l += G[path[i],path[i+1]]\n",
    "    #print(path,l)\n",
    "    paths.append(l)\n",
    "    #explored.append(path)\n",
    "\n",
    "print(min(paths))"
   ]
  },
  {
   "cell_type": "code",
   "execution_count": 79,
   "metadata": {},
   "outputs": [
    {
     "name": "stdout",
     "output_type": "stream",
     "text": [
      "909\n"
     ]
    }
   ],
   "source": [
    "print(max(paths))"
   ]
  },
  {
   "cell_type": "code",
   "execution_count": null,
   "metadata": {},
   "outputs": [],
   "source": []
  }
 ],
 "metadata": {
  "kernelspec": {
   "display_name": "Python 3",
   "language": "python",
   "name": "python3"
  },
  "language_info": {
   "codemirror_mode": {
    "name": "ipython",
    "version": 3
   },
   "file_extension": ".py",
   "mimetype": "text/x-python",
   "name": "python",
   "nbconvert_exporter": "python",
   "pygments_lexer": "ipython3",
   "version": "3.9.0"
  }
 },
 "nbformat": 4,
 "nbformat_minor": 4
}
