{
 "cells": [
  {
   "cell_type": "markdown",
   "metadata": {},
   "source": [
    "# Day 7: Some Assembly Required\n",
    "\n",
    "https://adventofcode.com/2015/day/7"
   ]
  },
  {
   "cell_type": "code",
   "execution_count": 27,
   "metadata": {},
   "outputs": [],
   "source": [
    "#filename = \"/./data/day07test0.txt\"\n",
    "filename = \"./data/input07.txt\""
   ]
  },
  {
   "cell_type": "code",
   "execution_count": 28,
   "metadata": {},
   "outputs": [
    {
     "name": "stdout",
     "output_type": "stream",
     "text": [
      "{'b': 19138, 'c': 0}\n"
     ]
    }
   ],
   "source": [
    "def getValuesGates(filename):\n",
    "    f = open(filename)\n",
    "    values = {}\n",
    "    gates = {}\n",
    "    for l in f.readlines():\n",
    "        g = l.strip(\"\\n\").split(\" -> \")\n",
    "        try:\n",
    "            values[g[1]] = int(g[0])\n",
    "        except:\n",
    "            #print(g[0].split(\" \"),g[1])\n",
    "            gates[g[1]] = g[0].split(\" \")\n",
    "    return values, gates\n",
    "\n",
    "values, gates = getValuesGates(filename)\n",
    "print(values)"
   ]
  },
  {
   "cell_type": "code",
   "execution_count": 29,
   "metadata": {},
   "outputs": [
    {
     "name": "stdout",
     "output_type": "stream",
     "text": [
      "16076\n"
     ]
    }
   ],
   "source": [
    "from copy import deepcopy\n",
    "\n",
    "def processSignals(values,gates):\n",
    "\n",
    "    newgates = deepcopy(gates)\n",
    "\n",
    "    # 16 bits mask for bitwise negagtion\n",
    "    mask = 0b1111111111111111\n",
    "\n",
    "    while len(newgates):\n",
    "\n",
    "        for v in gates.keys():\n",
    "\n",
    "            if len(gates[v])==1: # EQUAL\n",
    "                if gates[v][0] in values.keys():\n",
    "                    values[v] = values[gates[v][0]]\n",
    "                    newgates.pop(v)\n",
    "\n",
    "            if len(gates[v])==2: # NOT\n",
    "                if gates[v][1] in values.keys():\n",
    "                    values[v] = values[gates[v][1]] ^ mask\n",
    "                    newgates.pop(v)\n",
    "\n",
    "            if len(gates[v])==3: # AND, OR, LSHIFT, RSHIFT\n",
    "\n",
    "                # special treatment for 1 AND N gates\n",
    "                x = -1\n",
    "                try:\n",
    "                    x = int(gates[v][0])\n",
    "                except:\n",
    "                    x = -1\n",
    "\n",
    "                if x>0 and gates[v][2] in values.keys():\n",
    "                    if gates[v][1] == \"AND\": # redundant\n",
    "                        values[v] = 1 & values[gates[v][2]]\n",
    "                        newgates.pop(v)\n",
    "\n",
    "                elif gates[v][0] in values.keys() and gates[v][1][1:]=='SHIFT': # LSHIFT, RSHIFT\n",
    "                    if gates[v][1] == \"LSHIFT\":\n",
    "                        if gates[v][0] in values.keys():\n",
    "                            values[v] = values[gates[v][0]] << int(gates[v][2])\n",
    "                    elif gates[v][1] == \"RSHIFT\":\n",
    "                        if gates[v][0] in values.keys():\n",
    "                            values[v] = values[gates[v][0]] >> int(gates[v][2])    \n",
    "                    newgates.pop(v)\n",
    "\n",
    "                elif gates[v][0] in values.keys() and gates[v][2] in values.keys():\n",
    "                    if gates[v][1] == \"AND\":\n",
    "                        if gates[v][0] in values.keys():\n",
    "                            values[v] = values[gates[v][0]] & values[gates[v][2]]\n",
    "                    if gates[v][1] == \"OR\":\n",
    "                        if gates[v][0] in values.keys():\n",
    "                            values[v] = values[gates[v][0]] | values[gates[v][2]]\n",
    "                    newgates.pop(v)\n",
    "\n",
    "        gates = deepcopy(newgates)\n",
    "        \n",
    "    return values\n",
    "\n",
    "values, gates = getValuesGates(filename)\n",
    "finvalues = processSignals(values,gates)\n",
    "value_a = finvalues['a']\n",
    "print(value_a)"
   ]
  },
  {
   "cell_type": "code",
   "execution_count": 30,
   "metadata": {},
   "outputs": [
    {
     "name": "stdout",
     "output_type": "stream",
     "text": [
      "2797\n"
     ]
    }
   ],
   "source": [
    "values, gates = getValuesGates(filename)\n",
    "values['b'] = value_a\n",
    "finvalues2 = processSignals(values,gates)\n",
    "value_a2 = finvalues2['a']\n",
    "print(value_a2)"
   ]
  },
  {
   "cell_type": "code",
   "execution_count": null,
   "metadata": {},
   "outputs": [],
   "source": []
  }
 ],
 "metadata": {
  "kernelspec": {
   "display_name": "Python 3",
   "language": "python",
   "name": "python3"
  },
  "language_info": {
   "codemirror_mode": {
    "name": "ipython",
    "version": 3
   },
   "file_extension": ".py",
   "mimetype": "text/x-python",
   "name": "python",
   "nbconvert_exporter": "python",
   "pygments_lexer": "ipython3",
   "version": "3.9.0"
  }
 },
 "nbformat": 4,
 "nbformat_minor": 4
}
