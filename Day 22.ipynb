{
 "cells": [
  {
   "cell_type": "markdown",
   "metadata": {},
   "source": [
    "# Day 22: Wizard Simulator 20XX\n",
    "\n",
    "https://adventofcode.com/2015/day/22"
   ]
  },
  {
   "cell_type": "code",
   "execution_count": 195,
   "metadata": {},
   "outputs": [],
   "source": [
    "def Match(spellSequence,hp=50,mana=500,bosshp=55,bossda=8,diff=\"E\",verbose=True,spentMax=1000000):\n",
    "    \n",
    "    spellCost = {'M': 53, 'D': 73, 'S': 113, 'P': 173, 'R': 229}\n",
    "    spellEffect = { \"S\": 0 , \"P\": 0 , \"R\": 0 } \n",
    "    armor = 0\n",
    "    \n",
    "    turn = 0 # counter for spell sequence\n",
    "    wizardTurn = 1 # alternate between Wizard and Boss\n",
    "    manaSpent = 0\n",
    "\n",
    "    while True:\n",
    "        \n",
    "        if verbose:\n",
    "            if wizardTurn==1:    \n",
    "                print(\"-- Player --\")\n",
    "            else:\n",
    "                print(\"-- Boss --\")\n",
    "                \n",
    "        if wizardTurn==1 and diff==\"H\":\n",
    "            hp -= 1   \n",
    "            if verbose:\n",
    "                print(\"Hard mode!\")\n",
    "                print(\"HP: {} - Mana {} - Boss HP {}\".format(hp,mana,bosshp))\n",
    "            if hp <= 0: # Wizard dies\n",
    "                if verbose: print(\"Player dies!\")\n",
    "                return 0\n",
    "        \n",
    "        # Check residual effect of previous spells, if relevant apply. \n",
    "        # Apply to both Wizard and Boss turns.     \n",
    "        if spellEffect['P']: # Poison\n",
    "            if verbose: print(\"Poison!\")\n",
    "            spellEffect['P'] = max(spellEffect['P'] - 1, 0) \n",
    "            bosshp -= 3\n",
    "        if spellEffect['S']: # Shield\n",
    "            if verbose: print(\"Shield!\")\n",
    "            spellEffect['S'] = max(spellEffect['S'] - 1, 0)\n",
    "            armor = 7\n",
    "        else:\n",
    "            armor = 0        \n",
    "        if spellEffect['R']: # Recharge\n",
    "            if verbose: print(\"Recharge!\")\n",
    "            spellEffect['R'] = max(spellEffect['R'] - 1, 0)\n",
    "            mana += 101\n",
    "        \n",
    "        if bosshp <= 0:\n",
    "            if verbose: print(\"Boss dies!\")\n",
    "            return manaSpent\n",
    "        \n",
    "        # Wizard turn\n",
    "        if wizardTurn==1:\n",
    "            \n",
    "            if turn>=len(spellSequence):\n",
    "                if verbose:\n",
    "                    print(\"Reached end of spell sequence. Exiting.\")\n",
    "                return 0\n",
    "                \n",
    "            spell = spellSequence[turn]\n",
    "            mana -= spellCost[spell]\n",
    "            if mana<0: # not enough mana to cast the spell\n",
    "                if verbose: \n",
    "                    print(\"Not enough mana to cast spell\",spell,\". Exiting.\")\n",
    "                return 0\n",
    "            manaSpent += spellCost[spell]\n",
    "            if manaSpent >= spentMax:\n",
    "                if verbose: \n",
    "                    print(\"Spent more mana than maximum allowed. Exiting.\")\n",
    "                    return 0\n",
    "\n",
    "            if spell == 'M':\n",
    "                if verbose: print(\"Missile!\")\n",
    "                bosshp -= 4\n",
    "            elif spell == 'D':\n",
    "                if verbose: print(\"Defense!\")\n",
    "                bosshp -= 2\n",
    "                hp += 2\n",
    "            else:\n",
    "                if spellEffect[spell]:\n",
    "                    if verbose: print(\"Spell sequence not allowed. Exiting.\")\n",
    "                    return 0 # sequence not allowed\n",
    "                else:\n",
    "                    if verbose: print(\"Casting spell\",spell,\". Will be active from next turn.\")\n",
    "                    if spell=='S':\n",
    "                        spellEffect['S'] = 6\n",
    "                    elif spell == 'P':\n",
    "                        spellEffect['P'] = 6\n",
    "                    elif spell=='R':\n",
    "                        spellEffect['R'] = 5\n",
    "\n",
    "            if verbose:\n",
    "                print(\"HP: {} - Mana {} - Boss HP {}\".format(hp,mana,bosshp))\n",
    "            \n",
    "            if bosshp <= 0:\n",
    "                if verbose: print(\"Boss dies!\")\n",
    "                return manaSpent\n",
    "\n",
    "        # Boss turn\n",
    "        else:\n",
    "            #print(hp,mana,bosshp)\n",
    "            hp -= max(bossda - armor, 1)\n",
    "            \n",
    "            if verbose:\n",
    "                print(\"HP: {} - Mana {} - Boss HP {}\".format(hp,mana,bosshp))\n",
    "            \n",
    "            if hp <= 0: # Wizard dies\n",
    "                if verbose: print(\"Player dies!\")\n",
    "                return 0\n",
    "        \n",
    "        # increment turn counter only once per Wizard + Boss turn\n",
    "        if wizardTurn == 1:\n",
    "            turn += 1\n",
    "        \n",
    "        wizardTurn = -wizardTurn # flip from -1 to 1"
   ]
  },
  {
   "cell_type": "code",
   "execution_count": 196,
   "metadata": {},
   "outputs": [
    {
     "name": "stdout",
     "output_type": "stream",
     "text": [
      "-- Player --\n",
      "Casting spell P . Will be active from next turn.\n",
      "HP: 10 - Mana 77 - Boss HP 13\n",
      "-- Boss --\n",
      "Poison!\n",
      "HP: 2 - Mana 77 - Boss HP 10\n",
      "-- Player --\n",
      "Poison!\n",
      "Missile!\n",
      "HP: 2 - Mana 24 - Boss HP 3\n",
      "-- Boss --\n",
      "Poison!\n",
      "Boss dies!\n"
     ]
    },
    {
     "data": {
      "text/plain": [
       "226"
      ]
     },
     "execution_count": 196,
     "metadata": {},
     "output_type": "execute_result"
    }
   ],
   "source": [
    "Match([\"P\",\"M\"],10,250,13,8)"
   ]
  },
  {
   "cell_type": "code",
   "execution_count": 197,
   "metadata": {},
   "outputs": [
    {
     "name": "stdout",
     "output_type": "stream",
     "text": [
      "-- Player --\n",
      "Casting spell R . Will be active from next turn.\n",
      "HP: 10 - Mana 21 - Boss HP 14\n",
      "-- Boss --\n",
      "Recharge!\n",
      "HP: 2 - Mana 122 - Boss HP 14\n",
      "-- Player --\n",
      "Recharge!\n",
      "Casting spell S . Will be active from next turn.\n",
      "HP: 2 - Mana 110 - Boss HP 14\n",
      "-- Boss --\n",
      "Shield!\n",
      "Recharge!\n",
      "HP: 1 - Mana 211 - Boss HP 14\n",
      "-- Player --\n",
      "Shield!\n",
      "Recharge!\n",
      "Defense!\n",
      "HP: 3 - Mana 239 - Boss HP 12\n",
      "-- Boss --\n",
      "Shield!\n",
      "Recharge!\n",
      "HP: 2 - Mana 340 - Boss HP 12\n",
      "-- Player --\n",
      "Shield!\n",
      "Casting spell P . Will be active from next turn.\n",
      "HP: 2 - Mana 167 - Boss HP 12\n",
      "-- Boss --\n",
      "Poison!\n",
      "Shield!\n",
      "HP: 1 - Mana 167 - Boss HP 9\n",
      "-- Player --\n",
      "Poison!\n",
      "Shield!\n",
      "Missile!\n",
      "HP: 1 - Mana 114 - Boss HP 2\n",
      "-- Boss --\n",
      "Poison!\n",
      "Boss dies!\n"
     ]
    },
    {
     "data": {
      "text/plain": [
       "641"
      ]
     },
     "execution_count": 197,
     "metadata": {},
     "output_type": "execute_result"
    }
   ],
   "source": [
    "Match([\"R\",\"S\",\"D\",\"P\",\"M\"],10,250,14,8)"
   ]
  },
  {
   "cell_type": "code",
   "execution_count": 198,
   "metadata": {},
   "outputs": [],
   "source": [
    "# generate random sequence of spells of aribitrary lenght\n",
    "\n",
    "from random import choice\n",
    "\n",
    "spells = [\"R\",\"S\",\"D\",\"P\",\"M\"]\n",
    "\n",
    "def randomSpellSequence(length):\n",
    "    return [ choice(spells) for _ in range(length) ]"
   ]
  },
  {
   "cell_type": "code",
   "execution_count": 209,
   "metadata": {},
   "outputs": [
    {
     "name": "stdout",
     "output_type": "stream",
     "text": [
      "1953 ['R', 'P', 'S', 'D', 'P', 'R', 'D', 'S', 'R', 'D', 'P', 'R', 'D', 'M', 'M', 'R', 'D', 'R', 'R', 'P']\n",
      "1518 ['P', 'R', 'D', 'S', 'P', 'R', 'M', 'P', 'R', 'D', 'R', 'R', 'R', 'S', 'P', 'P', 'D', 'M', 'D', 'D']\n",
      "1455 ['R', 'S', 'P', 'M', 'R', 'S', 'P', 'D', 'D', 'P', 'M', 'R', 'R', 'S', 'M', 'S', 'R', 'R', 'P', 'D']\n",
      "1382 ['R', 'S', 'P', 'R', 'M', 'P', 'S', 'D', 'P', 'M', 'M', 'R', 'M', 'M', 'S', 'M', 'R', 'M', 'M', 'S']\n",
      "1295 ['S', 'R', 'P', 'M', 'R', 'P', 'S', 'M', 'M', 'M', 'M', 'R', 'D', 'R', 'D', 'P', 'S', 'M', 'M', 'M']\n",
      "1289 ['P', 'R', 'D', 'P', 'R', 'S', 'P', 'M', 'D', 'M', 'R', 'S', 'D', 'M', 'S', 'R', 'P', 'D', 'R', 'S']\n",
      "1269 ['P', 'M', 'R', 'D', 'P', 'R', 'S', 'P', 'M', 'R', 'R', 'P', 'P', 'D', 'S', 'S', 'R', 'M', 'D', 'R']\n",
      "953 ['R', 'P', 'M', 'M', 'S', 'P', 'M', 'M', 'M', 'D', 'D', 'S', 'S', 'R', 'P', 'M', 'S', 'S', 'D', 'P']\n",
      "953 ['M', 'P', 'R', 'S', 'P', 'M', 'M', 'M', 'M', 'M', 'S', 'D', 'S', 'D', 'P', 'P', 'D', 'M', 'P', 'S']\n",
      "953 ['R', 'M', 'P', 'S', 'M', 'P', 'M', 'M', 'M', 'P', 'R', 'S', 'S', 'D', 'S', 'P', 'R', 'R', 'D', 'D']\n",
      "953 ['P', 'R', 'S', 'M', 'P', 'M', 'M', 'M', 'M', 'S', 'R', 'P', 'D', 'P', 'R', 'D', 'S', 'P', 'P', 'D']\n",
      "Asymptotic minimum mana Part 1 = 953\n"
     ]
    }
   ],
   "source": [
    "spentMin = 10000\n",
    "spentMinSeq = []\n",
    "checkTail = 4\n",
    "\n",
    "while True:\n",
    "    \n",
    "    spellSequence = randomSpellSequence(20)\n",
    "    manaSpent = Match(spellSequence,50,500,55,8,diff=\"E\",verbose=False,spentMax=spentMin)\n",
    "    \n",
    "    if manaSpent:# player wins\n",
    "        if manaSpent <= spentMin:\n",
    "            spentMin = manaSpent\n",
    "            spentMinSeq.append(spentMin)\n",
    "            print(manaSpent,spellSequence)\n",
    "            if len(spentMinSeq)>checkTail:\n",
    "                if sum(spentMinSeq[-checkTail:])/checkTail == spentMinSeq[-1]:\n",
    "                    break\n",
    "                    \n",
    "print(\"Asymptotic minimum mana Part 1 =\",spentMinSeq[-1])"
   ]
  },
  {
   "cell_type": "code",
   "execution_count": 208,
   "metadata": {},
   "outputs": [
    {
     "name": "stdout",
     "output_type": "stream",
     "text": [
      "1475 ['R', 'M', 'S', 'P', 'R', 'S', 'P', 'M', 'M', 'P', 'S', 'S', 'M', 'D', 'S', 'S', 'D', 'P', 'P', 'M']\n",
      "1382 ['R', 'P', 'M', 'R', 'S', 'P', 'D', 'S', 'P', 'M', 'R', 'P', 'R', 'P', 'S', 'M', 'D', 'S', 'D', 'D']\n",
      "1362 ['R', 'P', 'S', 'R', 'M', 'P', 'M', 'S', 'P', 'M', 'D', 'S', 'M', 'M', 'P', 'R', 'S', 'D', 'S', 'P']\n",
      "1362 ['M', 'R', 'P', 'S', 'R', 'P', 'M', 'S', 'P', 'M', 'S', 'R', 'R', 'D', 'P', 'D', 'P', 'P', 'P', 'D']\n",
      "1309 ['R', 'P', 'M', 'S', 'P', 'R', 'S', 'P', 'M', 'D', 'M', 'P', 'S', 'R', 'P', 'M', 'S', 'S', 'M', 'S']\n",
      "1309 ['P', 'R', 'S', 'P', 'M', 'R', 'P', 'S', 'M', 'D', 'P', 'M', 'M', 'R', 'R', 'P', 'S', 'P', 'S', 'P']\n",
      "1309 ['P', 'M', 'R', 'S', 'P', 'R', 'S', 'P', 'M', 'D', 'P', 'S', 'M', 'R', 'S', 'M', 'M', 'P', 'D', 'R']\n",
      "1309 ['P', 'R', 'M', 'P', 'S', 'R', 'P', 'S', 'M', 'P', 'S', 'M', 'S', 'P', 'S', 'S', 'D', 'P', 'S', 'D']\n",
      "1289 ['P', 'R', 'S', 'P', 'R', 'D', 'P', 'D', 'M', 'S', 'S', 'M', 'M', 'M', 'R', 'M', 'M', 'S', 'M', 'D']\n",
      "1289 ['P', 'R', 'S', 'P', 'R', 'D', 'P', 'D', 'M', 'P', 'D', 'R', 'M', 'P', 'S', 'R', 'D', 'M', 'P', 'D']\n",
      "1289 ['P', 'R', 'S', 'P', 'D', 'R', 'P', 'D', 'M', 'S', 'P', 'P', 'P', 'S', 'M', 'P', 'S', 'S', 'D', 'D']\n",
      "1289 ['P', 'D', 'R', 'P', 'S', 'R', 'P', 'D', 'M', 'S', 'S', 'S', 'M', 'S', 'S', 'R', 'S', 'P', 'P', 'P']\n",
      "1289 ['P', 'D', 'R', 'P', 'S', 'R', 'P', 'D', 'M', 'D', 'R', 'M', 'R', 'S', 'P', 'D', 'S', 'S', 'R', 'P']\n",
      "Asymptotic minimum mana Part 2 = 1289\n"
     ]
    }
   ],
   "source": [
    "spentMin = 10000\n",
    "spentMinSeq = []\n",
    "checkTail = 5\n",
    "\n",
    "while True:\n",
    "    \n",
    "    spellSequence = randomSpellSequence(20)\n",
    "    manaSpent = Match(spellSequence,50,500,55,8,diff=\"H\",verbose=False,spentMax=spentMin)\n",
    "    \n",
    "    if manaSpent:# player wins\n",
    "        if manaSpent <= spentMin:\n",
    "            spentMin = manaSpent\n",
    "            spentMinSeq.append(spentMin)\n",
    "            print(manaSpent,spellSequence)\n",
    "            if len(spentMinSeq)>checkTail:\n",
    "                if sum(spentMinSeq[-checkTail:])/checkTail == spentMinSeq[-1]:\n",
    "                    break\n",
    "\n",
    "print(\"Asymptotic minimum mana Part 2 =\",spentMinSeq[-1])"
   ]
  },
  {
   "cell_type": "code",
   "execution_count": null,
   "metadata": {},
   "outputs": [],
   "source": []
  }
 ],
 "metadata": {
  "kernelspec": {
   "display_name": "Python 3",
   "language": "python",
   "name": "python3"
  },
  "language_info": {
   "codemirror_mode": {
    "name": "ipython",
    "version": 3
   },
   "file_extension": ".py",
   "mimetype": "text/x-python",
   "name": "python",
   "nbconvert_exporter": "python",
   "pygments_lexer": "ipython3",
   "version": "3.9.0"
  }
 },
 "nbformat": 4,
 "nbformat_minor": 4
}
