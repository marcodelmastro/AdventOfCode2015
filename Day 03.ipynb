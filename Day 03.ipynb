{
 "cells": [
  {
   "cell_type": "markdown",
   "metadata": {},
   "source": [
    "# Day 3: Perfectly Spherical Houses in a Vacuum\n",
    "\n",
    "https://adventofcode.com/2015/day/3"
   ]
  },
  {
   "cell_type": "code",
   "execution_count": 42,
   "metadata": {},
   "outputs": [],
   "source": [
    "def mov(arrow):\n",
    "    '''define movements and positions as complex numbers'''\n",
    "    if arrow==\"^\":\n",
    "        return 1j\n",
    "    elif arrow==\">\":\n",
    "        return 1\n",
    "    elif arrow==\"v\":\n",
    "        return -1j\n",
    "    elif arrow==\"<\":\n",
    "        return -1\n",
    "    else:\n",
    "        return 0"
   ]
  },
  {
   "cell_type": "code",
   "execution_count": 43,
   "metadata": {},
   "outputs": [],
   "source": [
    "#movs = \"^>v<\"\n",
    "#movs = \"^v^v^v^v^v\"\n",
    "\n",
    "f = open(\"data/input03.txt\")\n",
    "movs = f.readlines()[0]"
   ]
  },
  {
   "cell_type": "code",
   "execution_count": 44,
   "metadata": {},
   "outputs": [
    {
     "name": "stdout",
     "output_type": "stream",
     "text": [
      "2572\n"
     ]
    }
   ],
   "source": [
    "from collections import defaultdict\n",
    "\n",
    "presents = defaultdict(lambda:0)\n",
    "\n",
    "pos = 0\n",
    "presents[pos] = 1\n",
    "\n",
    "for m in movs:\n",
    "    pos += mov(m)\n",
    "    #print(m, mov(m), pos)\n",
    "    presents[pos] += 1\n",
    "    \n",
    "print(len(presents.keys()))"
   ]
  },
  {
   "cell_type": "code",
   "execution_count": 41,
   "metadata": {},
   "outputs": [
    {
     "name": "stdout",
     "output_type": "stream",
     "text": [
      "2631\n"
     ]
    }
   ],
   "source": [
    "presents = defaultdict(lambda:0)\n",
    "\n",
    "pos1 = 0 # santa\n",
    "pos2 = 0 # robot\n",
    "presents[pos1] = 1\n",
    "\n",
    "for m in movs[0::2]: # santa\n",
    "    pos1 += mov(m)\n",
    "    presents[pos1] += 1\n",
    "\n",
    "for m in movs[1::2]: # robot\n",
    "    pos2 += mov(m)\n",
    "    presents[pos2] += 1\n",
    "\n",
    "print(len(presents.keys()))"
   ]
  },
  {
   "cell_type": "code",
   "execution_count": null,
   "metadata": {},
   "outputs": [],
   "source": []
  }
 ],
 "metadata": {
  "kernelspec": {
   "display_name": "Python 3",
   "language": "python",
   "name": "python3"
  },
  "language_info": {
   "codemirror_mode": {
    "name": "ipython",
    "version": 3
   },
   "file_extension": ".py",
   "mimetype": "text/x-python",
   "name": "python",
   "nbconvert_exporter": "python",
   "pygments_lexer": "ipython3",
   "version": "3.9.0"
  }
 },
 "nbformat": 4,
 "nbformat_minor": 4
}
