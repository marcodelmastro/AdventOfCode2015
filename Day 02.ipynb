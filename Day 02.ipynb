{
 "cells": [
  {
   "cell_type": "markdown",
   "metadata": {},
   "source": [
    "# Day 2: I Was Told There Would Be No Math\n",
    "\n",
    "https://adventofcode.com/2015/day/2"
   ]
  },
  {
   "cell_type": "code",
   "execution_count": 37,
   "metadata": {},
   "outputs": [
    {
     "name": "stdout",
     "output_type": "stream",
     "text": [
      "1588178\n"
     ]
    }
   ],
   "source": [
    "f = open(\"data/input02.txt\")\n",
    "\n",
    "dims = [ [ int(x) for x in  l.strip(\"\\n\").split(\"x\") ] for l in f.readlines() ]\n",
    "\n",
    "from itertools import combinations\n",
    "\n",
    "surftot = 0\n",
    "for d in dims:\n",
    "    surf = []\n",
    "    for a,b in combinations(d,2):\n",
    "        surf.append(a*b)\n",
    "    #print(d,surf,min(surf),2*sum(surf))\n",
    "    surftot += 2*sum(surf) + min(surf)\n",
    "print(surftot)"
   ]
  },
  {
   "cell_type": "code",
   "execution_count": 38,
   "metadata": {},
   "outputs": [
    {
     "name": "stdout",
     "output_type": "stream",
     "text": [
      "3783758\n"
     ]
    }
   ],
   "source": [
    "from functools import reduce\n",
    "\n",
    "ribbon = 0\n",
    "for d in dims:\n",
    "    rib = 2*sum(sorted(d)[0:-1]) # sort sides and get two shorted ones\n",
    "    bow = reduce(lambda x, y: x * y, d) # use reduce to multiply element in dimension list\n",
    "    ribbon += rib+bow\n",
    "print(ribbon)"
   ]
  },
  {
   "cell_type": "code",
   "execution_count": null,
   "metadata": {},
   "outputs": [],
   "source": []
  }
 ],
 "metadata": {
  "kernelspec": {
   "display_name": "Python 3",
   "language": "python",
   "name": "python3"
  },
  "language_info": {
   "codemirror_mode": {
    "name": "ipython",
    "version": 3
   },
   "file_extension": ".py",
   "mimetype": "text/x-python",
   "name": "python",
   "nbconvert_exporter": "python",
   "pygments_lexer": "ipython3",
   "version": "3.9.0"
  }
 },
 "nbformat": 4,
 "nbformat_minor": 4
}
