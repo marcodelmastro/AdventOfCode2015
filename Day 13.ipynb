{
 "cells": [
  {
   "cell_type": "markdown",
   "metadata": {},
   "source": [
    "# Day 13: Knights of the Dinner Table\n",
    "\n",
    "https://adventofcode.com/2015/day/13"
   ]
  },
  {
   "cell_type": "code",
   "execution_count": 76,
   "metadata": {},
   "outputs": [],
   "source": [
    "def getNamesGains(filename):\n",
    "    f = open(filename)\n",
    "    gains = {}\n",
    "    names = []\n",
    "    for l in f.readlines():\n",
    "        s = l.strip(\"\\n\").replace(\"would \",\"\").replace(\" happiness units by sitting next to\",\"\").replace(\".\",\"\").split(\" \")\n",
    "        if s[0] not in names:\n",
    "            names.append(s[0])\n",
    "        if s[3] not in names:\n",
    "            names.append(s[3])\n",
    "        gain = 0\n",
    "        if s[1] == \"gain\":\n",
    "            gain = int(s[2])\n",
    "        else:\n",
    "            gain = -int(s[2]) \n",
    "        if s[0] in gains.keys():\n",
    "            gains[s[0]][s[3]] = gain\n",
    "        else:\n",
    "            gains[s[0]] = { s[3]: gain }\n",
    "    return names, gains"
   ]
  },
  {
   "cell_type": "code",
   "execution_count": 77,
   "metadata": {},
   "outputs": [],
   "source": [
    "from itertools import permutations\n",
    "\n",
    "def getMaxHappiness(names,gains):\n",
    "    happiness = []\n",
    "    for seats in permutations(names,len(names)):\n",
    "        h = 0\n",
    "        for i in range(len(seats)):\n",
    "            s = seats[i]\n",
    "            l = seats[i-1]\n",
    "            r = seats[(i+1)%len(seats)]\n",
    "            h += gains[s][l] + gains[s][r]\n",
    "        happiness.append(h)\n",
    "    return(max(happiness))"
   ]
  },
  {
   "cell_type": "code",
   "execution_count": 78,
   "metadata": {},
   "outputs": [
    {
     "name": "stdout",
     "output_type": "stream",
     "text": [
      "733\n"
     ]
    }
   ],
   "source": [
    "#names, gains = getNamesGains(\"./data/day13test0.txt\")\n",
    "names, gains = getNamesGains(\"./data/input13.txt\")\n",
    "print(getMaxHappiness(names,gains))"
   ]
  },
  {
   "cell_type": "code",
   "execution_count": 79,
   "metadata": {},
   "outputs": [
    {
     "name": "stdout",
     "output_type": "stream",
     "text": [
      "725\n"
     ]
    }
   ],
   "source": [
    "mygains = {}\n",
    "for n in names:\n",
    "    mygains[n] = 0\n",
    "    gains[n]['Myself'] = 0\n",
    "gains[\"Myself\"] = mygains\n",
    "names.append(\"Myself\")\n",
    "print(getMaxHappiness(names,gains))"
   ]
  },
  {
   "cell_type": "code",
   "execution_count": null,
   "metadata": {},
   "outputs": [],
   "source": []
  }
 ],
 "metadata": {
  "kernelspec": {
   "display_name": "Python 3",
   "language": "python",
   "name": "python3"
  },
  "language_info": {
   "codemirror_mode": {
    "name": "ipython",
    "version": 3
   },
   "file_extension": ".py",
   "mimetype": "text/x-python",
   "name": "python",
   "nbconvert_exporter": "python",
   "pygments_lexer": "ipython3",
   "version": "3.9.0"
  }
 },
 "nbformat": 4,
 "nbformat_minor": 4
}
