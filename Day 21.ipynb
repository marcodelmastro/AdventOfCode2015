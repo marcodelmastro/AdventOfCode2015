{
 "cells": [
  {
   "cell_type": "markdown",
   "metadata": {},
   "source": [
    "# Day 21: RPG Simulator 20XX\n",
    "\n",
    "https://adventofcode.com/2015/day/21"
   ]
  },
  {
   "cell_type": "code",
   "execution_count": 99,
   "metadata": {},
   "outputs": [],
   "source": [
    "class Player():\n",
    "    def __init__(self,hitpoints,damage,armor):\n",
    "        self.hitpoints = hitpoints\n",
    "        self.damage = damage\n",
    "        self.armor = armor\n",
    "    \n",
    "    def inflictDamage(self):\n",
    "        return self.damage\n",
    "    \n",
    "    def receiveDamage(self,damage):\n",
    "        self.hitpoints -= max(1,damage-self.armor)\n",
    "        \n",
    "def Round(player,boss,verbose=True):\n",
    "    boss.receiveDamage(player.inflictDamage())\n",
    "    if boss.hitpoints <= 0:\n",
    "        if verbose:\n",
    "            print(\"Boss dies!\")\n",
    "        return 1\n",
    "    else:\n",
    "        if verbose:\n",
    "            print(\"B hit points = \",boss.hitpoints)\n",
    "    player.receiveDamage(boss.inflictDamage())\n",
    "    if player.hitpoints <= 0:\n",
    "        if verbose:\n",
    "            print(\"Player dies!\")\n",
    "        return -1\n",
    "    else:\n",
    "        if verbose:\n",
    "            print(\"P hit points = \",player.hitpoints)\n",
    "    return 0\n",
    "\n",
    "def Match(player,boss,verbose=False):\n",
    "    status=0\n",
    "    r=1\n",
    "    while status==0:\n",
    "        if verbose:\n",
    "            print(\"--- Round\",r,\"---\")\n",
    "        status = Round(player,boss,verbose)\n",
    "        r+=1\n",
    "    return status"
   ]
  },
  {
   "cell_type": "code",
   "execution_count": 100,
   "metadata": {},
   "outputs": [
    {
     "name": "stdout",
     "output_type": "stream",
     "text": [
      "--- Round 1 ---\n",
      "B hit points =  9\n",
      "P hit points =  6\n",
      "--- Round 2 ---\n",
      "B hit points =  6\n",
      "P hit points =  4\n",
      "--- Round 3 ---\n",
      "B hit points =  3\n",
      "P hit points =  2\n",
      "--- Round 4 ---\n",
      "Boss dies!\n"
     ]
    },
    {
     "data": {
      "text/plain": [
       "1"
      ]
     },
     "execution_count": 100,
     "metadata": {},
     "output_type": "execute_result"
    }
   ],
   "source": [
    "player = Player(8,5,5)\n",
    "boss = Player(12,7,2)\n",
    "Match(player,boss,verbose=True)"
   ]
  },
  {
   "cell_type": "code",
   "execution_count": 101,
   "metadata": {},
   "outputs": [
    {
     "name": "stdout",
     "output_type": "stream",
     "text": [
      "Player dies...\n"
     ]
    }
   ],
   "source": [
    "# My puzzle input: boss stats\n",
    "# Hit Points: 109\n",
    "# Damage: 8\n",
    "# Armor: 2\n",
    "\n",
    "boss = Player(109,8,2)\n",
    "player = Player(100,5,5)\n",
    "\n",
    "status = Match(player,boss,verbose=False)\n",
    "\n",
    "if status==1:\n",
    "    print(\"Player wins!\")\n",
    "else:\n",
    "    print(\"Player dies...\")"
   ]
  },
  {
   "cell_type": "code",
   "execution_count": 102,
   "metadata": {},
   "outputs": [
    {
     "name": "stdout",
     "output_type": "stream",
     "text": [
      "Least gold to win = 111\n",
      "Most gold to lose = 188\n"
     ]
    }
   ],
   "source": [
    "# Cost  Damage  Armor\n",
    "weapons = {}\n",
    "weapons[\"Dagger\"]     = ( 8, 4, 0)\n",
    "weapons[\"Shortsword\"] = (10, 5, 0)\n",
    "weapons[\"Warhammer\"]  = (25, 6, 0)\n",
    "weapons[\"Longsword\"]  = (40, 7, 0)\n",
    "weapons[\"Greataxe\"]   = (74, 8, 0)\n",
    "\n",
    "armors = {}\n",
    "armors[\"None\"]       = ( 0, 0, 0)\n",
    "armors[\"Leather\"]    = ( 13, 0, 1)\n",
    "armors[\"Chainmail\"]  = ( 31, 0, 2)\n",
    "armors[\"Splintmail\"] = ( 53, 0, 3)\n",
    "armors[\"Bandedmail\"] = ( 75, 0, 4)\n",
    "armors[\"Platemail\"]  = (102, 0, 5)\n",
    "\n",
    "rings = {}\n",
    "rings[\"Damage +1\"]  = ( 25, 1, 0)\n",
    "rings[\"Damage +2\"]  = ( 50, 2, 0)\n",
    "rings[\"Damage +3\"]  = (100, 3, 0)\n",
    "rings[\"Defense +1\"] = ( 20, 0, 1)\n",
    "rings[\"Defense +2\"] = ( 40, 0, 2)\n",
    "rings[\"Defense +3\"] = ( 80, 0, 3)\n",
    "\n",
    "ringnames = [ \"Damage +1\", \"Damage +2\", \"Damage +3\", \"Defense +1\", \"Defense +2\", \"Defense +3\" ]\n",
    "\n",
    "spendwin = []\n",
    "spendloose = []\n",
    "\n",
    "for w in weapons.keys(): # choose one weapon\n",
    "    cw,damage,_ = weapons[w]\n",
    "    \n",
    "    for a in armors.keys(): # choose one armor (including none)\n",
    "        ca,_,armor = armors[a]\n",
    "        \n",
    "        # choose a combination of 0, 1 or 2 rings\n",
    "        for nrings in range(3):\n",
    "            for rr in combinations(ringnames,nrings):\n",
    "                crr = 0\n",
    "                drr = 0\n",
    "                arr = 0\n",
    "                for r in rr:\n",
    "                    cr,dr,ar = rings[r]\n",
    "                    crr += cr\n",
    "                    drr += dr\n",
    "                    arr += ar\n",
    "                \n",
    "                # compute cost for current combination of weapon, armor and ring(s)\n",
    "                cost = cw + ca + crr\n",
    "                \n",
    "                # initialise the boss at each match!\n",
    "                boss = Player(109,8,2) \n",
    "                \n",
    "                # initialise player\n",
    "                player = Player(100,damage+drr,armor+arr)\n",
    "                \n",
    "                # fight!\n",
    "                status = Match(player,boss,verbose=False)\n",
    "                \n",
    "                if status == 1: # player wins\n",
    "                    spendwin.append(cost)\n",
    "                if status ==-1: # player loose\n",
    "                    spendloose.append(cost)\n",
    "\n",
    "print(\"Least gold to win =\",min(spendwin))\n",
    "print(\"Most gold to lose =\",max(spendloose))"
   ]
  },
  {
   "cell_type": "code",
   "execution_count": null,
   "metadata": {},
   "outputs": [],
   "source": []
  }
 ],
 "metadata": {
  "kernelspec": {
   "display_name": "Python 3",
   "language": "python",
   "name": "python3"
  },
  "language_info": {
   "codemirror_mode": {
    "name": "ipython",
    "version": 3
   },
   "file_extension": ".py",
   "mimetype": "text/x-python",
   "name": "python",
   "nbconvert_exporter": "python",
   "pygments_lexer": "ipython3",
   "version": "3.9.0"
  }
 },
 "nbformat": 4,
 "nbformat_minor": 4
}
