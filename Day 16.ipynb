{
 "cells": [
  {
   "cell_type": "markdown",
   "metadata": {},
   "source": [
    "# Day 16: Aunt Sue\n",
    "\n",
    "https://adventofcode.com/2015/day/16"
   ]
  },
  {
   "cell_type": "code",
   "execution_count": 52,
   "metadata": {},
   "outputs": [],
   "source": [
    "import re\n",
    "#from collections import defaultdict\n",
    "\n",
    "f = open(\"./data/input16.txt\")\n",
    "\n",
    "text = f.read()\n",
    "regexp = r'Sue (\\d+): (\\w+): (\\d+), (\\w+): (\\d+), (\\w+): (\\d+)'\n",
    "sue = {}\n",
    "for d,k1,v1,k2,v2,k3,v3 in re.findall(regexp,text):\n",
    "    #print(d,k1,v1,k2,v2,k3,v3)\n",
    "    #memories = defaultdict(lambda: None)\n",
    "    memories = {}\n",
    "    memories[k1] = int(v1)\n",
    "    memories[k2] = int(v2)\n",
    "    memories[k3] = int(v3)\n",
    "    sue[int(d)] = memories\n",
    "    \n",
    "MFCSAM = {}\n",
    "MFCSAM['children'] = 3\n",
    "MFCSAM['cats'] = 7\n",
    "MFCSAM['samoyeds'] = 2\n",
    "MFCSAM['pomeranians'] = 3\n",
    "MFCSAM['akitas'] = 0\n",
    "MFCSAM['vizslas'] = 0\n",
    "MFCSAM['goldfish'] = 5\n",
    "MFCSAM['trees'] = 3\n",
    "MFCSAM['cars'] = 2\n",
    "MFCSAM['perfumes'] = 1"
   ]
  },
  {
   "cell_type": "code",
   "execution_count": 53,
   "metadata": {},
   "outputs": [
    {
     "name": "stdout",
     "output_type": "stream",
     "text": [
      "103\n"
     ]
    }
   ],
   "source": [
    "for d in sue.keys():\n",
    "    match = True\n",
    "    for k in sue[d].keys():\n",
    "        match = match and MFCSAM[k]==sue[d][k]\n",
    "    if match:\n",
    "        print(d)\n",
    "        break"
   ]
  },
  {
   "cell_type": "code",
   "execution_count": 54,
   "metadata": {},
   "outputs": [
    {
     "name": "stdout",
     "output_type": "stream",
     "text": [
      "405\n"
     ]
    }
   ],
   "source": [
    "for d in sue.keys():\n",
    "    match = True\n",
    "    for k in sue[d].keys():\n",
    "        if k == \"cats\" or k == \"trees\":\n",
    "            match = match and sue[d][k]>MFCSAM[k]\n",
    "        elif k==\"pomeranians\" or k==\"goldfish\":\n",
    "            match = match and sue[d][k]<MFCSAM[k]\n",
    "        else:\n",
    "            match = match and MFCSAM[k]==sue[d][k]\n",
    "    if match:\n",
    "        print(d)\n",
    "        break"
   ]
  },
  {
   "cell_type": "code",
   "execution_count": null,
   "metadata": {},
   "outputs": [],
   "source": []
  }
 ],
 "metadata": {
  "kernelspec": {
   "display_name": "Python 3",
   "language": "python",
   "name": "python3"
  },
  "language_info": {
   "codemirror_mode": {
    "name": "ipython",
    "version": 3
   },
   "file_extension": ".py",
   "mimetype": "text/x-python",
   "name": "python",
   "nbconvert_exporter": "python",
   "pygments_lexer": "ipython3",
   "version": "3.9.0"
  }
 },
 "nbformat": 4,
 "nbformat_minor": 4
}
