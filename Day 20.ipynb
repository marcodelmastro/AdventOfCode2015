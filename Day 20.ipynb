{
 "cells": [
  {
   "cell_type": "markdown",
   "metadata": {},
   "source": [
    "# Day 20\n",
    "\n",
    "https://adventofcode.com/2015/day/20\n",
    "\n",
    "## Part 1"
   ]
  },
  {
   "cell_type": "code",
   "execution_count": 19,
   "metadata": {},
   "outputs": [
    {
     "name": "stdout",
     "output_type": "stream",
     "text": [
      "House 831600 receives 36902400 gifts\n"
     ]
    }
   ],
   "source": [
    "from math import sqrt\n",
    "\n",
    "def divisors(n) : \n",
    "    divisors = []  \n",
    "    for i in range(1,int(sqrt(n)+1)):           \n",
    "        if (n%i==0) :\n",
    "            d = n//i\n",
    "            if (n//i==i) : \n",
    "                divisors.append(i)\n",
    "            else : \n",
    "                divisors.append(i)\n",
    "                divisors.append(n//i) \n",
    "    return sorted(divisors)\n",
    "\n",
    "smax = 36000000\n",
    "s = 0\n",
    "n = 0\n",
    "while True:\n",
    "    n += 1\n",
    "    s = 10*sum(divisors(n))\n",
    "    if s>=smax:\n",
    "        print(\"House\",n,\"receives\",s,\"gifts\")\n",
    "        break\n"
   ]
  },
  {
   "cell_type": "markdown",
   "metadata": {},
   "source": [
    "## Part 2"
   ]
  },
  {
   "cell_type": "code",
   "execution_count": 27,
   "metadata": {},
   "outputs": [
    {
     "name": "stdout",
     "output_type": "stream",
     "text": [
      "House 884520 receives 36191925 gifts\n"
     ]
    }
   ],
   "source": [
    "from collections import defaultdict\n",
    "\n",
    "elfs = defaultdict(lambda:0)\n",
    "\n",
    "smax = 36000000\n",
    "n = 0\n",
    "while True:\n",
    "    n += 1\n",
    "    s = 0\n",
    "    for k in divisors(n):\n",
    "        if elfs[k] < 50:\n",
    "            s += 11*k\n",
    "            elfs[k] += 1\n",
    "    if s>=smax:\n",
    "        print(\"House\",n,\"receives\",s,\"gifts\")\n",
    "        break"
   ]
  },
  {
   "cell_type": "code",
   "execution_count": null,
   "metadata": {},
   "outputs": [],
   "source": []
  }
 ],
 "metadata": {
  "kernelspec": {
   "display_name": "Python 3",
   "language": "python",
   "name": "python3"
  },
  "language_info": {
   "codemirror_mode": {
    "name": "ipython",
    "version": 3
   },
   "file_extension": ".py",
   "mimetype": "text/x-python",
   "name": "python",
   "nbconvert_exporter": "python",
   "pygments_lexer": "ipython3",
   "version": "3.9.0"
  }
 },
 "nbformat": 4,
 "nbformat_minor": 4
}
