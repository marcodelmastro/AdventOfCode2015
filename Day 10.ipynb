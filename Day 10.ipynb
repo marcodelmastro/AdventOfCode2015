{
 "cells": [
  {
   "cell_type": "markdown",
   "metadata": {},
   "source": [
    "# Day 10: Elves Look, Elves Say\n",
    "\n",
    "https://adventofcode.com/2015/day/10\n",
    "\n",
    "https://www.youtube.com/watch?v=ea7lJkEhytA"
   ]
  },
  {
   "cell_type": "code",
   "execution_count": 35,
   "metadata": {},
   "outputs": [],
   "source": [
    "def evolveString(s):\n",
    "    # count character occurrences\n",
    "    it = 0\n",
    "    char = [s[0]]\n",
    "    count = [ 1]\n",
    "    for i in range(1,len(s)):\n",
    "        if s[i]==char[it]:\n",
    "            count[it] += 1\n",
    "        else:\n",
    "            char.append(s[i])\n",
    "            count.append(1)\n",
    "            it+=1\n",
    "    # build new string\n",
    "    s_new = \"\"\n",
    "    for c,s in zip(count,char):\n",
    "        s_new += str(c)+s\n",
    "    return s_new\n",
    "\n",
    "def iterateString(s,iterations,debug=False):\n",
    "    for _ in range(iterations):\n",
    "        s_new = evolveString(s)\n",
    "        if debug:\n",
    "            print(s,\"->\",s_new)\n",
    "        s = s_new\n",
    "    return s"
   ]
  },
  {
   "cell_type": "code",
   "execution_count": 36,
   "metadata": {},
   "outputs": [
    {
     "name": "stdout",
     "output_type": "stream",
     "text": [
      "1 -> 11\n",
      "11 -> 21\n",
      "21 -> 1211\n",
      "1211 -> 111221\n",
      "111221 -> 312211\n",
      "Final lenght = 6\n"
     ]
    }
   ],
   "source": [
    "s = iterateString(\"1\",5,True)\n",
    "print(\"Final lenght =\",len(s))"
   ]
  },
  {
   "cell_type": "code",
   "execution_count": 37,
   "metadata": {},
   "outputs": [
    {
     "name": "stdout",
     "output_type": "stream",
     "text": [
      "Final lenght = 360154\n"
     ]
    }
   ],
   "source": [
    "si = \"1113122113\"\n",
    "sf = iterateString(si,40,False)\n",
    "print(\"Final lenght =\",len(sf))"
   ]
  },
  {
   "cell_type": "code",
   "execution_count": 38,
   "metadata": {},
   "outputs": [
    {
     "name": "stdout",
     "output_type": "stream",
     "text": [
      "Final lenght = 5103798\n"
     ]
    }
   ],
   "source": [
    "si = \"1113122113\"\n",
    "sf = iterateString(si,50,False)\n",
    "print(\"Final lenght =\",len(sf))"
   ]
  },
  {
   "cell_type": "code",
   "execution_count": null,
   "metadata": {},
   "outputs": [],
   "source": []
  }
 ],
 "metadata": {
  "kernelspec": {
   "display_name": "Python 3",
   "language": "python",
   "name": "python3"
  },
  "language_info": {
   "codemirror_mode": {
    "name": "ipython",
    "version": 3
   },
   "file_extension": ".py",
   "mimetype": "text/x-python",
   "name": "python",
   "nbconvert_exporter": "python",
   "pygments_lexer": "ipython3",
   "version": "3.9.0"
  }
 },
 "nbformat": 4,
 "nbformat_minor": 4
}
