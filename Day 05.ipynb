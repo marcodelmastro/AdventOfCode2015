{
 "cells": [
  {
   "cell_type": "markdown",
   "metadata": {},
   "source": [
    "# Day 5: Doesn't He Have Intern-Elves For This?\n",
    "\n",
    "https://adventofcode.com/2015/day/5\n",
    "\n",
    "## Part 1"
   ]
  },
  {
   "cell_type": "code",
   "execution_count": 29,
   "metadata": {},
   "outputs": [
    {
     "name": "stdout",
     "output_type": "stream",
     "text": [
      "258\n"
     ]
    }
   ],
   "source": [
    "import re\n",
    "\n",
    "def hasThreeVowels(string):\n",
    "    vows = [s for s in string if s in \"aeiou\"]\n",
    "    return len(vows)>=3\n",
    "\n",
    "def hasNastyStrings(string):\n",
    "    nasty = ['ab', 'cd', 'pq', 'xy']\n",
    "    for n in nasty:\n",
    "        if n in string:\n",
    "            return True\n",
    "    return False\n",
    "\n",
    "def hasDoubleLetter(string):\n",
    "    double = re.search(r'([a-z])\\1', string) # None or first consecutive letter repetition found\n",
    "    if double:\n",
    "        #print(double.group())\n",
    "        return True\n",
    "    else:\n",
    "        return False\n",
    "\n",
    "def isNice(string):\n",
    "    return hasThreeVowels(string) and hasDoubleLetter(string) and not hasNastyStrings(string)\n",
    "    \n",
    "f = open(\"data/input05.txt\")\n",
    "strings = [s.strip(\"\\n\") for s in f.readlines()]\n",
    "nice = 0\n",
    "for s in strings:\n",
    "    if isNice(s):\n",
    "        nice+=1\n",
    "print(nice)"
   ]
  },
  {
   "cell_type": "code",
   "execution_count": null,
   "metadata": {},
   "outputs": [],
   "source": []
  }
 ],
 "metadata": {
  "kernelspec": {
   "display_name": "Python 3",
   "language": "python",
   "name": "python3"
  },
  "language_info": {
   "codemirror_mode": {
    "name": "ipython",
    "version": 3
   },
   "file_extension": ".py",
   "mimetype": "text/x-python",
   "name": "python",
   "nbconvert_exporter": "python",
   "pygments_lexer": "ipython3",
   "version": "3.9.0"
  }
 },
 "nbformat": 4,
 "nbformat_minor": 4
}
