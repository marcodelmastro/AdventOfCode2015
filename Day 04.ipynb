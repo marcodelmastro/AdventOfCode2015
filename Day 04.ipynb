{
 "cells": [
  {
   "cell_type": "markdown",
   "metadata": {},
   "source": [
    "# Day 4: The Ideal Stocking Stuffer\n",
    "\n",
    "https://adventofcode.com/2015/day/4"
   ]
  },
  {
   "cell_type": "code",
   "execution_count": 1,
   "metadata": {},
   "outputs": [],
   "source": [
    "#secret = \"abcdef\"\n",
    "#secret = \"pqrstuv\"\n",
    "secret = \"bgvyzdsv\""
   ]
  },
  {
   "cell_type": "code",
   "execution_count": 2,
   "metadata": {},
   "outputs": [
    {
     "name": "stdout",
     "output_type": "stream",
     "text": [
      "254575\n"
     ]
    }
   ],
   "source": [
    "import hashlib\n",
    "\n",
    "def findValueHash(secret,ndig):\n",
    "    n = 0\n",
    "    while True:\n",
    "        # convert string to bytes\n",
    "        value = bytes(secret+str(n),'utf-8')\n",
    "        # compute MD5\n",
    "        result = hashlib.md5(value)\n",
    "        # Check ndig first digits\n",
    "        if result.hexdigest()[0:ndig]==ndig*\"0\":\n",
    "            return(n)\n",
    "        n += 1\n",
    "        \n",
    "print(findValueHash(secret,5))"
   ]
  },
  {
   "cell_type": "code",
   "execution_count": 3,
   "metadata": {},
   "outputs": [
    {
     "name": "stdout",
     "output_type": "stream",
     "text": [
      "1038736\n"
     ]
    }
   ],
   "source": [
    "print(findValueHash(secret,6))"
   ]
  },
  {
   "cell_type": "code",
   "execution_count": null,
   "metadata": {},
   "outputs": [],
   "source": []
  }
 ],
 "metadata": {
  "kernelspec": {
   "display_name": "Python 3",
   "language": "python",
   "name": "python3"
  },
  "language_info": {
   "codemirror_mode": {
    "name": "ipython",
    "version": 3
   },
   "file_extension": ".py",
   "mimetype": "text/x-python",
   "name": "python",
   "nbconvert_exporter": "python",
   "pygments_lexer": "ipython3",
   "version": "3.9.0"
  }
 },
 "nbformat": 4,
 "nbformat_minor": 4
}
