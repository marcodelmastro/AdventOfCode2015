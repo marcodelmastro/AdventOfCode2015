{
 "cells": [
  {
   "cell_type": "markdown",
   "metadata": {},
   "source": [
    "# Day 24: It Hangs in the Balance\n",
    "\n",
    "https://adventofcode.com/2015/day/24"
   ]
  },
  {
   "cell_type": "code",
   "execution_count": 1,
   "metadata": {},
   "outputs": [],
   "source": [
    "from itertools import combinations\n",
    "import numpy as np\n",
    "\n",
    "def getQE(packages,comps,smin,smax):\n",
    "    \n",
    "    weight = sum(packages)//comps\n",
    "    \n",
    "    set1 = []\n",
    "    #set2 = []\n",
    "\n",
    "    #for i in range(1,len(packages)):\n",
    "    for i in range(smin,smax):\n",
    "        for c in combinations(packages,i):\n",
    "            sc = sum(c)\n",
    "            if sc == weight:\n",
    "                #print(c)\n",
    "                set1.append(c)\n",
    "            #elif sc == 2*weight:\n",
    "            #    set2.append(c)      \n",
    "\n",
    "    qelist = []\n",
    "    for s1 in set1:\n",
    "        #for s2 in set2:\n",
    "            #s = s1 + s2\n",
    "            #if sorted(s) == packages:\n",
    "        p = 1\n",
    "        for n in s1:\n",
    "            p *= n\n",
    "        #print(s1,p)\n",
    "        qelist.append([len(s1),p])\n",
    "\n",
    "    qe = np.array(qelist)\n",
    "    qe = qe[qe[:,1].argsort()] \n",
    "    qe = qe[qe[:,0].argsort(kind='mergesort')]\n",
    "        \n",
    "    return qe[0,1]"
   ]
  },
  {
   "cell_type": "code",
   "execution_count": 3,
   "metadata": {},
   "outputs": [
    {
     "name": "stdout",
     "output_type": "stream",
     "text": [
      "11846773891\n"
     ]
    }
   ],
   "source": [
    "f = open(\"./data/input24.txt\")\n",
    "packages = [ int(n.strip('\\n')) for n in f.readlines() ]\n",
    "print(getQE(packages,3,6,7))"
   ]
  },
  {
   "cell_type": "code",
   "execution_count": 4,
   "metadata": {},
   "outputs": [
    {
     "name": "stdout",
     "output_type": "stream",
     "text": [
      "80393059\n"
     ]
    }
   ],
   "source": [
    "print(getQE(packages,4,4,5))"
   ]
  },
  {
   "cell_type": "code",
   "execution_count": null,
   "metadata": {},
   "outputs": [],
   "source": []
  }
 ],
 "metadata": {
  "kernelspec": {
   "display_name": "Python 3",
   "language": "python",
   "name": "python3"
  },
  "language_info": {
   "codemirror_mode": {
    "name": "ipython",
    "version": 3
   },
   "file_extension": ".py",
   "mimetype": "text/x-python",
   "name": "python",
   "nbconvert_exporter": "python",
   "pygments_lexer": "ipython3",
   "version": "3.9.0"
  }
 },
 "nbformat": 4,
 "nbformat_minor": 4
}
